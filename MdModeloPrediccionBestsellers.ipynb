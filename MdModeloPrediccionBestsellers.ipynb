{
  "cells": [
    {
      "cell_type": "markdown",
      "metadata": {
        "id": "EOgGBV78dOn4"
      },
      "source": [
        "### 0. Imports"
      ]
    },
    {
      "cell_type": "code",
      "execution_count": 209,
      "metadata": {
        "id": "jw8ogMDOpvKP"
      },
      "outputs": [],
      "source": [
        "import pandas as pd\n",
        "import sklearn as sk\n",
        "import numpy as np\n",
        "import matplotlib.pyplot as plt\n",
        "import seaborn as sns\n",
        "from sklearn import model_selection\n",
        "from sklearn import ensemble\n",
        "from sklearn import metrics\n",
        "from google.colab import files\n",
        "from scipy.stats import chi2_contingency\n",
        "from sklearn.feature_selection import chi2, SelectKBest, VarianceThreshold, RFE, SequentialFeatureSelector\n",
        "from sklearn.ensemble import RandomForestRegressor\n",
        "from sklearn.impute import SimpleImputer"
      ]
    },
    {
      "cell_type": "markdown",
      "metadata": {
        "id": "20D-m6GPyefp"
      },
      "source": [
        "# 1. Lectura de datos"
      ]
    },
    {
      "cell_type": "code",
      "execution_count": 210,
      "metadata": {
        "id": "1rlmGybtpV9S"
      },
      "outputs": [],
      "source": [
        "# Evita tener que hacer la descarga cada vez que se quiere iniciar el proceso de cero. \n",
        "# Esta celda se ejecuta solo la primera vez\n",
        "!wget -q http://tomasdelvechio.github.io/subjects/dm/udemy_entrenamiento.xlsx\n",
        "!wget -q http://tomasdelvechio.github.io/subjects/dm/udemy_prueba.xlsx"
      ]
    },
    {
      "cell_type": "code",
      "execution_count": 211,
      "metadata": {
        "id": "CtV0wOGsqJLC"
      },
      "outputs": [],
      "source": [
        "df_entrenamiento = pd.read_excel('udemy_entrenamiento.xlsx', index_col=\"id\")\n",
        "\n",
        "# fix de error en la clase, era \"si\", no \"yes\" (En kaggle)\n",
        "df_entrenamiento.loc[df_entrenamiento['bestseller'] == \"yes\", 'bestseller'] = \"si\""
      ]
    },
    {
      "cell_type": "code",
      "execution_count": 212,
      "metadata": {
        "id": "mFsXMBPUqTQl"
      },
      "outputs": [],
      "source": [
        "df_prueba = pd.read_excel('udemy_prueba.xlsx', index_col=\"id\")"
      ]
    },
    {
      "cell_type": "markdown",
      "metadata": {
        "id": "kJCK7poRxxvZ"
      },
      "source": [
        "## 1.1. Tratamiento de desbalance\n",
        "\n",
        "Existe un desbalance de la clase `bestseller`. Se armaron 3 opciones. Por default, se mantiene el desbalance original 80 / 20 en favor del valor \"no\".\n",
        "\n",
        "Las 2 alternativas que se exploran (ver sección 2.6) son: \n",
        "\n",
        "- Reducir los \"no\" para generar un rebalance 65 / 35.\n",
        "- Reducir los \"no\" para generar un rebalance 50 / 50."
      ]
    },
    {
      "cell_type": "code",
      "execution_count": 213,
      "metadata": {
        "id": "i8Hb-HWV9nwP"
      },
      "outputs": [],
      "source": [
        "# Quitar Duplicados?\n",
        "QUITAR_DUPLICADOS = False\n",
        "if QUITAR_DUPLICADOS:\n",
        "  df_entrenamiento = df_entrenamiento.drop_duplicates()\n",
        "# TD: Mis pruebas dan que el borrado de duplicates es irrelevante"
      ]
    },
    {
      "cell_type": "code",
      "execution_count": 214,
      "metadata": {
        "id": "SAxHteutylDw"
      },
      "outputs": [],
      "source": [
        "PROPORCION_ELEGIDA=\"mantener_desbalance_80/20\"\n",
        "#PROPORCION_ELEGIDA=\"rebalancear_65/35\" NO ESTA FUNCIONANDO\n",
        "#PROPORCION_ELEGIDA=\"rebalancear_50/50\"\n",
        "\n",
        "if PROPORCION_ELEGIDA == \"mantener_desbalance_80/20\":\n",
        "  df_entrenamiento_proporcionado = df_entrenamiento\n",
        "else:\n",
        "  g = df_entrenamiento.groupby('bestseller')\n",
        "  if PROPORCION_ELEGIDA == \"rebalancear_65/35\":\n",
        "    muestras_a_tomar = 4100\n",
        "  elif PROPORCION_ELEGIDA == \"rebalancear_50/50\":\n",
        "    muestras_a_tomar = g.size().min() # 2.200\n",
        "  df_entrenamiento_proporcionado = (g.apply(lambda x: x.sample(muestras_a_tomar, random_state=1))).reset_index(drop=True)\n",
        "  df_entrenamiento_proporcionado.index.name = \"id\"\n",
        "  df_entrenamiento_proporcionado = g.apply(lambda x: x.sample(muestras_a_tomar)) #.reset_index(drop=True))"
      ]
    },
    {
      "cell_type": "markdown",
      "metadata": {
        "id": "Sh5twSWEz-Qu"
      },
      "source": [
        "Para probar el balance elegido, ejecutar:"
      ]
    },
    {
      "cell_type": "code",
      "execution_count": 215,
      "metadata": {
        "id": "_scfPECHz9vO"
      },
      "outputs": [],
      "source": [
        "#print(df_entrenamiento_proporcionado.bestseller.value_counts(normalize=False))\n",
        "#print(df_entrenamiento_proporcionado.bestseller.value_counts(normalize=True))\n",
        "if PROPORCION_ELEGIDA == \"rebalancear_50/50\":\n",
        "  assert df_entrenamiento_proporcionado.bestseller.value_counts()[0] == 2200\n",
        "  assert df_entrenamiento_proporcionado.bestseller.value_counts()[1] == 2200\n",
        "\n",
        "if PROPORCION_ELEGIDA == \"mantener_desbalance_80/20\" and not QUITAR_DUPLICADOS:\n",
        "  assert df_entrenamiento.bestseller.value_counts()[0] == 8887\n",
        "  assert df_entrenamiento.bestseller.value_counts()[1] == 2200"
      ]
    },
    {
      "cell_type": "markdown",
      "metadata": {
        "id": "kRxXEgnjxj45"
      },
      "source": [
        "## 1.2. Preparación de DataFrame"
      ]
    },
    {
      "cell_type": "markdown",
      "metadata": {
        "id": "Aoup63ghowGy"
      },
      "source": [
        "Una vez cargados ambos datasets, hay que concatenarlos en uno solo para que el tratamiento de las columnas sea consistente.\n",
        "\n",
        "Se volverá a separar recien en la sección 5."
      ]
    },
    {
      "cell_type": "code",
      "execution_count": 216,
      "metadata": {
        "id": "i7OFdkBapPCj"
      },
      "outputs": [],
      "source": [
        "df = pd.concat([df_entrenamiento_proporcionado, df_prueba], axis=0)\n",
        "\n",
        "# Se crea mascara para cada dataset, para filtrar cuando se hagan calculos por columnas\n",
        "mascara_filtra_entrenamiento = df['bestseller'].notna()\n",
        "mascara_filtra_pruebas = df['bestseller'].isna()"
      ]
    },
    {
      "cell_type": "code",
      "execution_count": 217,
      "metadata": {
        "id": "VPFij_aXqad6"
      },
      "outputs": [],
      "source": [
        "# Se prueba que las mascaras funcionen\n",
        "assert df_entrenamiento_proporcionado.shape == df[mascara_filtra_entrenamiento].shape\n",
        "assert df_prueba.shape == df[mascara_filtra_pruebas].shape"
      ]
    },
    {
      "cell_type": "markdown",
      "metadata": {
        "id": "i2jRJmQ-tD4Z"
      },
      "source": [
        "# Modelización\n"
      ]
    },
    {
      "cell_type": "markdown",
      "metadata": {
        "id": "R0aYJrLsiAaf"
      },
      "source": [
        "## Funciones generales"
      ]
    },
    {
      "cell_type": "code",
      "source": [
        "def imputacion_simple(df, columnas, df_train=None, strategy='median'):\n",
        "    if df_train is None:\n",
        "        # escenario de imputacion del propio df de entrenamiento\n",
        "        df_train = df\n",
        "    df_train_copy = df_train[columnas].copy()\n",
        "\n",
        "    imp = SimpleImputer(strategy=strategy)\n",
        "    # strategy == mean, median, most_frequent, constant\n",
        "    imputador = imp.fit(df_train_copy)\n",
        "    df_imputado = imputador.transform(df[columnas])\n",
        "    return pd.DataFrame(df_imputado, columns=columnas, index=df.index)"
      ],
      "metadata": {
        "id": "FQGSOdfGyRUa"
      },
      "execution_count": 218,
      "outputs": []
    },
    {
      "cell_type": "code",
      "execution_count": 219,
      "metadata": {
        "id": "d22pgqgZUSDn"
      },
      "outputs": [],
      "source": [
        "DROPNA=False\n",
        "\n",
        "if DROPNA:\n",
        "  dfe = df_entrenamiento.dropna()[df_entrenamiento.columns].copy()\n",
        "  dfp = df_prueba[df_prueba.columns].copy()\n",
        "else:\n",
        "  dfe = df_entrenamiento[df_entrenamiento.columns].copy()\n",
        "  dfp = df_prueba[df_prueba.columns].copy()\n"
      ]
    },
    {
      "cell_type": "code",
      "execution_count": 220,
      "metadata": {
        "colab": {
          "base_uri": "https://localhost:8080/",
          "height": 666
        },
        "id": "LGn0g6EcZU3f",
        "outputId": "4774c4a6-1582-47b1-c741-5df2f277d651"
      },
      "outputs": [
        {
          "output_type": "execute_result",
          "data": {
            "text/plain": [
              "                                                title  \\\n",
              "id                                                      \n",
              "1   Aprende a tocar Piano o Teclado (Desde nivel b...   \n",
              "2   Curso Hipoterapia y Rehabilitacion Ecuestre On...   \n",
              "3                                    Curso SEO Online   \n",
              "4                              Aprende CSS3 sin dolor   \n",
              "5                    Aprende Javascript, HTML5 y CSS3   \n",
              "\n",
              "                                             headline  \\\n",
              "id                                                      \n",
              "1   Curso completo de Piano con TEORÍA para el fun...   \n",
              "2   Terapias asistidas por Caballos (Hipoterapia, ...   \n",
              "3   Curso SEO práctico. Aprenda a posicionar su si...   \n",
              "4   Realiza animaciones asombrosas, antes imposibl...   \n",
              "5   Aprende los principales lenguajes que dominan ...   \n",
              "\n",
              "    is_practice_test_course bestseller captions    rating  \\\n",
              "id                                                          \n",
              "1                     False         no    es_LA  4.535809   \n",
              "2                     False         no    es_ES  4.133590   \n",
              "3                     False         no    es_ES  3.841912   \n",
              "4                     False         no    es_MX  4.039739   \n",
              "5                     False         si      NaN  4.643154   \n",
              "\n",
              "    num_published_lectures  num_published_practice_tests locale created_date  \\\n",
              "id                                                                             \n",
              "1                       58                             1  es_LA   2012-01-26   \n",
              "2                       32                             0  es_ES   2012-06-10   \n",
              "3                       76                             0  es_ES   2011-06-13   \n",
              "4                       68                             0  es_MX   2012-08-30   \n",
              "5                      550                             0  es_MX   2012-08-30   \n",
              "\n",
              "   instructional_level_simple published_date last_update_date  \\\n",
              "id                                                              \n",
              "1           Todos los niveles     2012-01-26       2021-05-19   \n",
              "2                Principiante     2012-06-10       2015-12-17   \n",
              "3           Todos los niveles     2012-07-03       2020-02-28   \n",
              "4                  Intermedio     2012-08-31       2019-09-08   \n",
              "5           Todos los niveles     2012-09-02       2021-03-04   \n",
              "\n",
              "   content_info_short instructors        category                 subcategory  \\\n",
              "id                                                                              \n",
              "1             4 horas      121211          Música                       Piano   \n",
              "2            10 horas      236127  Estilo de vida  Adiestramiento de mascotas   \n",
              "3           6,5 horas        3851       Marketing                         SEO   \n",
              "4           9,5 horas      171706      Desarrollo                         CSS   \n",
              "5          70,5 horas      171706      Desarrollo                  JavaScript   \n",
              "\n",
              "                                           objectives list_price  \\\n",
              "id                                                                 \n",
              "1   Aprende Piano desde nivel básico. Estudiaras l...     $34.99   \n",
              "2   La Hipoterapia y la Psicología.La Hipoterapia ...     $99.99   \n",
              "3   Entender los fundamentos del SEO.Aprender a ha...     $94.99   \n",
              "4   El alumno conocerá las principales característ...     $19.99   \n",
              "5   Desarrollar páginas dinámicas con JavaScript, ...     $29.99   \n",
              "\n",
              "   discount_price  \n",
              "id                 \n",
              "1             $12  \n",
              "2             NaN  \n",
              "3             $12  \n",
              "4             $12  \n",
              "5             $12  "
            ],
            "text/html": [
              "\n",
              "  <div id=\"df-cdda4f01-88d3-41eb-a3ae-51183413af61\">\n",
              "    <div class=\"colab-df-container\">\n",
              "      <div>\n",
              "<style scoped>\n",
              "    .dataframe tbody tr th:only-of-type {\n",
              "        vertical-align: middle;\n",
              "    }\n",
              "\n",
              "    .dataframe tbody tr th {\n",
              "        vertical-align: top;\n",
              "    }\n",
              "\n",
              "    .dataframe thead th {\n",
              "        text-align: right;\n",
              "    }\n",
              "</style>\n",
              "<table border=\"1\" class=\"dataframe\">\n",
              "  <thead>\n",
              "    <tr style=\"text-align: right;\">\n",
              "      <th></th>\n",
              "      <th>title</th>\n",
              "      <th>headline</th>\n",
              "      <th>is_practice_test_course</th>\n",
              "      <th>bestseller</th>\n",
              "      <th>captions</th>\n",
              "      <th>rating</th>\n",
              "      <th>num_published_lectures</th>\n",
              "      <th>num_published_practice_tests</th>\n",
              "      <th>locale</th>\n",
              "      <th>created_date</th>\n",
              "      <th>instructional_level_simple</th>\n",
              "      <th>published_date</th>\n",
              "      <th>last_update_date</th>\n",
              "      <th>content_info_short</th>\n",
              "      <th>instructors</th>\n",
              "      <th>category</th>\n",
              "      <th>subcategory</th>\n",
              "      <th>objectives</th>\n",
              "      <th>list_price</th>\n",
              "      <th>discount_price</th>\n",
              "    </tr>\n",
              "    <tr>\n",
              "      <th>id</th>\n",
              "      <th></th>\n",
              "      <th></th>\n",
              "      <th></th>\n",
              "      <th></th>\n",
              "      <th></th>\n",
              "      <th></th>\n",
              "      <th></th>\n",
              "      <th></th>\n",
              "      <th></th>\n",
              "      <th></th>\n",
              "      <th></th>\n",
              "      <th></th>\n",
              "      <th></th>\n",
              "      <th></th>\n",
              "      <th></th>\n",
              "      <th></th>\n",
              "      <th></th>\n",
              "      <th></th>\n",
              "      <th></th>\n",
              "      <th></th>\n",
              "    </tr>\n",
              "  </thead>\n",
              "  <tbody>\n",
              "    <tr>\n",
              "      <th>1</th>\n",
              "      <td>Aprende a tocar Piano o Teclado (Desde nivel b...</td>\n",
              "      <td>Curso completo de Piano con TEORÍA para el fun...</td>\n",
              "      <td>False</td>\n",
              "      <td>no</td>\n",
              "      <td>es_LA</td>\n",
              "      <td>4.535809</td>\n",
              "      <td>58</td>\n",
              "      <td>1</td>\n",
              "      <td>es_LA</td>\n",
              "      <td>2012-01-26</td>\n",
              "      <td>Todos los niveles</td>\n",
              "      <td>2012-01-26</td>\n",
              "      <td>2021-05-19</td>\n",
              "      <td>4 horas</td>\n",
              "      <td>121211</td>\n",
              "      <td>Música</td>\n",
              "      <td>Piano</td>\n",
              "      <td>Aprende Piano desde nivel básico. Estudiaras l...</td>\n",
              "      <td>$34.99</td>\n",
              "      <td>$12</td>\n",
              "    </tr>\n",
              "    <tr>\n",
              "      <th>2</th>\n",
              "      <td>Curso Hipoterapia y Rehabilitacion Ecuestre On...</td>\n",
              "      <td>Terapias asistidas por Caballos (Hipoterapia, ...</td>\n",
              "      <td>False</td>\n",
              "      <td>no</td>\n",
              "      <td>es_ES</td>\n",
              "      <td>4.133590</td>\n",
              "      <td>32</td>\n",
              "      <td>0</td>\n",
              "      <td>es_ES</td>\n",
              "      <td>2012-06-10</td>\n",
              "      <td>Principiante</td>\n",
              "      <td>2012-06-10</td>\n",
              "      <td>2015-12-17</td>\n",
              "      <td>10 horas</td>\n",
              "      <td>236127</td>\n",
              "      <td>Estilo de vida</td>\n",
              "      <td>Adiestramiento de mascotas</td>\n",
              "      <td>La Hipoterapia y la Psicología.La Hipoterapia ...</td>\n",
              "      <td>$99.99</td>\n",
              "      <td>NaN</td>\n",
              "    </tr>\n",
              "    <tr>\n",
              "      <th>3</th>\n",
              "      <td>Curso SEO Online</td>\n",
              "      <td>Curso SEO práctico. Aprenda a posicionar su si...</td>\n",
              "      <td>False</td>\n",
              "      <td>no</td>\n",
              "      <td>es_ES</td>\n",
              "      <td>3.841912</td>\n",
              "      <td>76</td>\n",
              "      <td>0</td>\n",
              "      <td>es_ES</td>\n",
              "      <td>2011-06-13</td>\n",
              "      <td>Todos los niveles</td>\n",
              "      <td>2012-07-03</td>\n",
              "      <td>2020-02-28</td>\n",
              "      <td>6,5 horas</td>\n",
              "      <td>3851</td>\n",
              "      <td>Marketing</td>\n",
              "      <td>SEO</td>\n",
              "      <td>Entender los fundamentos del SEO.Aprender a ha...</td>\n",
              "      <td>$94.99</td>\n",
              "      <td>$12</td>\n",
              "    </tr>\n",
              "    <tr>\n",
              "      <th>4</th>\n",
              "      <td>Aprende CSS3 sin dolor</td>\n",
              "      <td>Realiza animaciones asombrosas, antes imposibl...</td>\n",
              "      <td>False</td>\n",
              "      <td>no</td>\n",
              "      <td>es_MX</td>\n",
              "      <td>4.039739</td>\n",
              "      <td>68</td>\n",
              "      <td>0</td>\n",
              "      <td>es_MX</td>\n",
              "      <td>2012-08-30</td>\n",
              "      <td>Intermedio</td>\n",
              "      <td>2012-08-31</td>\n",
              "      <td>2019-09-08</td>\n",
              "      <td>9,5 horas</td>\n",
              "      <td>171706</td>\n",
              "      <td>Desarrollo</td>\n",
              "      <td>CSS</td>\n",
              "      <td>El alumno conocerá las principales característ...</td>\n",
              "      <td>$19.99</td>\n",
              "      <td>$12</td>\n",
              "    </tr>\n",
              "    <tr>\n",
              "      <th>5</th>\n",
              "      <td>Aprende Javascript, HTML5 y CSS3</td>\n",
              "      <td>Aprende los principales lenguajes que dominan ...</td>\n",
              "      <td>False</td>\n",
              "      <td>si</td>\n",
              "      <td>NaN</td>\n",
              "      <td>4.643154</td>\n",
              "      <td>550</td>\n",
              "      <td>0</td>\n",
              "      <td>es_MX</td>\n",
              "      <td>2012-08-30</td>\n",
              "      <td>Todos los niveles</td>\n",
              "      <td>2012-09-02</td>\n",
              "      <td>2021-03-04</td>\n",
              "      <td>70,5 horas</td>\n",
              "      <td>171706</td>\n",
              "      <td>Desarrollo</td>\n",
              "      <td>JavaScript</td>\n",
              "      <td>Desarrollar páginas dinámicas con JavaScript, ...</td>\n",
              "      <td>$29.99</td>\n",
              "      <td>$12</td>\n",
              "    </tr>\n",
              "  </tbody>\n",
              "</table>\n",
              "</div>\n",
              "      <button class=\"colab-df-convert\" onclick=\"convertToInteractive('df-cdda4f01-88d3-41eb-a3ae-51183413af61')\"\n",
              "              title=\"Convert this dataframe to an interactive table.\"\n",
              "              style=\"display:none;\">\n",
              "        \n",
              "  <svg xmlns=\"http://www.w3.org/2000/svg\" height=\"24px\"viewBox=\"0 0 24 24\"\n",
              "       width=\"24px\">\n",
              "    <path d=\"M0 0h24v24H0V0z\" fill=\"none\"/>\n",
              "    <path d=\"M18.56 5.44l.94 2.06.94-2.06 2.06-.94-2.06-.94-.94-2.06-.94 2.06-2.06.94zm-11 1L8.5 8.5l.94-2.06 2.06-.94-2.06-.94L8.5 2.5l-.94 2.06-2.06.94zm10 10l.94 2.06.94-2.06 2.06-.94-2.06-.94-.94-2.06-.94 2.06-2.06.94z\"/><path d=\"M17.41 7.96l-1.37-1.37c-.4-.4-.92-.59-1.43-.59-.52 0-1.04.2-1.43.59L10.3 9.45l-7.72 7.72c-.78.78-.78 2.05 0 2.83L4 21.41c.39.39.9.59 1.41.59.51 0 1.02-.2 1.41-.59l7.78-7.78 2.81-2.81c.8-.78.8-2.07 0-2.86zM5.41 20L4 18.59l7.72-7.72 1.47 1.35L5.41 20z\"/>\n",
              "  </svg>\n",
              "      </button>\n",
              "      \n",
              "  <style>\n",
              "    .colab-df-container {\n",
              "      display:flex;\n",
              "      flex-wrap:wrap;\n",
              "      gap: 12px;\n",
              "    }\n",
              "\n",
              "    .colab-df-convert {\n",
              "      background-color: #E8F0FE;\n",
              "      border: none;\n",
              "      border-radius: 50%;\n",
              "      cursor: pointer;\n",
              "      display: none;\n",
              "      fill: #1967D2;\n",
              "      height: 32px;\n",
              "      padding: 0 0 0 0;\n",
              "      width: 32px;\n",
              "    }\n",
              "\n",
              "    .colab-df-convert:hover {\n",
              "      background-color: #E2EBFA;\n",
              "      box-shadow: 0px 1px 2px rgba(60, 64, 67, 0.3), 0px 1px 3px 1px rgba(60, 64, 67, 0.15);\n",
              "      fill: #174EA6;\n",
              "    }\n",
              "\n",
              "    [theme=dark] .colab-df-convert {\n",
              "      background-color: #3B4455;\n",
              "      fill: #D2E3FC;\n",
              "    }\n",
              "\n",
              "    [theme=dark] .colab-df-convert:hover {\n",
              "      background-color: #434B5C;\n",
              "      box-shadow: 0px 1px 3px 1px rgba(0, 0, 0, 0.15);\n",
              "      filter: drop-shadow(0px 1px 2px rgba(0, 0, 0, 0.3));\n",
              "      fill: #FFFFFF;\n",
              "    }\n",
              "  </style>\n",
              "\n",
              "      <script>\n",
              "        const buttonEl =\n",
              "          document.querySelector('#df-cdda4f01-88d3-41eb-a3ae-51183413af61 button.colab-df-convert');\n",
              "        buttonEl.style.display =\n",
              "          google.colab.kernel.accessAllowed ? 'block' : 'none';\n",
              "\n",
              "        async function convertToInteractive(key) {\n",
              "          const element = document.querySelector('#df-cdda4f01-88d3-41eb-a3ae-51183413af61');\n",
              "          const dataTable =\n",
              "            await google.colab.kernel.invokeFunction('convertToInteractive',\n",
              "                                                     [key], {});\n",
              "          if (!dataTable) return;\n",
              "\n",
              "          const docLinkHtml = 'Like what you see? Visit the ' +\n",
              "            '<a target=\"_blank\" href=https://colab.research.google.com/notebooks/data_table.ipynb>data table notebook</a>'\n",
              "            + ' to learn more about interactive tables.';\n",
              "          element.innerHTML = '';\n",
              "          dataTable['output_type'] = 'display_data';\n",
              "          await google.colab.output.renderOutput(dataTable, element);\n",
              "          const docLink = document.createElement('div');\n",
              "          docLink.innerHTML = docLinkHtml;\n",
              "          element.appendChild(docLink);\n",
              "        }\n",
              "      </script>\n",
              "    </div>\n",
              "  </div>\n",
              "  "
            ]
          },
          "metadata": {},
          "execution_count": 220
        }
      ],
      "source": [
        "dfe.head()"
      ]
    },
    {
      "cell_type": "code",
      "execution_count": 221,
      "metadata": {
        "id": "c7f6Nw4QXoX5"
      },
      "outputs": [],
      "source": [
        "def categorizar_columna(df, nombre_columna):\n",
        "  fq_col = df.groupby(nombre_columna).size()/len(df)  \n",
        "  new_col = df[nombre_columna].map(fq_col)\n",
        "  return pd.DataFrame(new_col, columns = [nombre_columna])\n",
        "\n",
        "columnas_a_categorizar = [\n",
        "#  'is_practice_test_course',\n",
        "  'captions',\n",
        "  'locale',\n",
        "  'instructional_level_simple',\n",
        "#  'content_info_short',\n",
        "  'instructors',\n",
        "  'category',\n",
        "  'subcategory',\n",
        "#  'list_price',\n",
        "#  'discount_price',\n",
        "]\n",
        "\n",
        "#for columna in list(dfe.columns):\n",
        "for columna in columnas_a_categorizar:\n",
        "  if columna == 'bestseller':\n",
        "    continue\n",
        "  dfe[f\"{columna}_prop\"] = categorizar_columna(dfe, columna)\n",
        "  dfp[f\"{columna}_prop\"] = categorizar_columna(dfp, columna)\n"
      ]
    },
    {
      "cell_type": "code",
      "execution_count": 222,
      "metadata": {
        "colab": {
          "base_uri": "https://localhost:8080/"
        },
        "id": "T13AZ0W9aoVe",
        "outputId": "c1ffb3b9-47cf-4cdb-fe6d-7b91e1618856"
      },
      "outputs": [
        {
          "output_type": "stream",
          "name": "stdout",
          "text": [
            "<class 'pandas.core.frame.DataFrame'>\n",
            "Int64Index: 11087 entries, 1 to 11087\n",
            "Data columns (total 26 columns):\n",
            " #   Column                           Non-Null Count  Dtype  \n",
            "---  ------                           --------------  -----  \n",
            " 0   title                            11087 non-null  object \n",
            " 1   headline                         11086 non-null  object \n",
            " 2   is_practice_test_course          11087 non-null  bool   \n",
            " 3   bestseller                       11087 non-null  object \n",
            " 4   captions                         9142 non-null   object \n",
            " 5   rating                           11087 non-null  float64\n",
            " 6   num_published_lectures           11087 non-null  int64  \n",
            " 7   num_published_practice_tests     11087 non-null  int64  \n",
            " 8   locale                           11087 non-null  object \n",
            " 9   created_date                     11087 non-null  object \n",
            " 10  instructional_level_simple       11082 non-null  object \n",
            " 11  published_date                   11087 non-null  object \n",
            " 12  last_update_date                 9805 non-null   object \n",
            " 13  content_info_short               11087 non-null  object \n",
            " 14  instructors                      11086 non-null  object \n",
            " 15  category                         11087 non-null  object \n",
            " 16  subcategory                      11068 non-null  object \n",
            " 17  objectives                       11086 non-null  object \n",
            " 18  list_price                       11087 non-null  object \n",
            " 19  discount_price                   10103 non-null  object \n",
            " 20  captions_prop                    9142 non-null   float64\n",
            " 21  locale_prop                      11087 non-null  float64\n",
            " 22  instructional_level_simple_prop  11082 non-null  float64\n",
            " 23  instructors_prop                 11086 non-null  float64\n",
            " 24  category_prop                    11087 non-null  float64\n",
            " 25  subcategory_prop                 11068 non-null  float64\n",
            "dtypes: bool(1), float64(7), int64(2), object(16)\n",
            "memory usage: 2.2+ MB\n"
          ]
        }
      ],
      "source": [
        "dfe.info()"
      ]
    },
    {
      "cell_type": "code",
      "source": [
        "dfe.shape"
      ],
      "metadata": {
        "colab": {
          "base_uri": "https://localhost:8080/"
        },
        "id": "9vecyfjcxHVh",
        "outputId": "17bc2a2f-b984-4bef-c9a7-68ac1e4df9da"
      },
      "execution_count": 223,
      "outputs": [
        {
          "output_type": "execute_result",
          "data": {
            "text/plain": [
              "(11087, 26)"
            ]
          },
          "metadata": {},
          "execution_count": 223
        }
      ]
    },
    {
      "cell_type": "code",
      "source": [
        "col_a_imputar_simple = ['discount_price']\n",
        "TRATAMIENTO_FINO_NAN = True\n",
        "if TRATAMIENTO_FINO_NAN:\n",
        "  columnas_a_borrar_por_nans = dfe.columns[dfe.isna().sum() > 20].drop(col_a_imputar_simple).tolist()\n",
        "  dfe = dfe[dfe.columns.drop(columnas_a_borrar_por_nans)]\n",
        "  dfp = dfp[dfp.columns.drop(columnas_a_borrar_por_nans)]\n",
        "  dfe = dfe.dropna()[dfe.columns].copy()\n",
        "  dfe['discount_price'] = dfe['discount_price'].str.strip('$').astype(float)\n",
        "  dfp['discount_price'] = dfp['discount_price'].str.strip('$').astype(float)\n",
        "  dfe[col_a_imputar_simple] = imputacion_simple(dfe, col_a_imputar_simple)\n",
        "  dfp[col_a_imputar_simple] = imputacion_simple(dfp, col_a_imputar_simple)\n",
        "\n",
        "dfe.shape"
      ],
      "metadata": {
        "colab": {
          "base_uri": "https://localhost:8080/"
        },
        "id": "660i91Zdubdo",
        "outputId": "df393ea1-9d11-475e-ad2c-d958bdef109c"
      },
      "execution_count": 224,
      "outputs": [
        {
          "output_type": "stream",
          "name": "stderr",
          "text": [
            "/usr/local/lib/python3.7/dist-packages/ipykernel_launcher.py:9: SettingWithCopyWarning: \n",
            "A value is trying to be set on a copy of a slice from a DataFrame.\n",
            "Try using .loc[row_indexer,col_indexer] = value instead\n",
            "\n",
            "See the caveats in the documentation: https://pandas.pydata.org/pandas-docs/stable/user_guide/indexing.html#returning-a-view-versus-a-copy\n",
            "  if __name__ == '__main__':\n",
            "/usr/local/lib/python3.7/dist-packages/pandas/core/frame.py:3641: SettingWithCopyWarning: \n",
            "A value is trying to be set on a copy of a slice from a DataFrame.\n",
            "Try using .loc[row_indexer,col_indexer] = value instead\n",
            "\n",
            "See the caveats in the documentation: https://pandas.pydata.org/pandas-docs/stable/user_guide/indexing.html#returning-a-view-versus-a-copy\n",
            "  self[k1] = value[k2]\n"
          ]
        },
        {
          "output_type": "execute_result",
          "data": {
            "text/plain": [
              "(10077, 23)"
            ]
          },
          "metadata": {},
          "execution_count": 224
        }
      ]
    },
    {
      "cell_type": "code",
      "execution_count": 225,
      "metadata": {
        "colab": {
          "base_uri": "https://localhost:8080/",
          "height": 839
        },
        "id": "e7dd3MmybPbn",
        "outputId": "63ffd6ec-fb64-4670-d798-5edb819008e5"
      },
      "outputs": [
        {
          "output_type": "display_data",
          "data": {
            "text/plain": [
              "<Figure size 432x288 with 1 Axes>"
            ],
            "image/png": "[encoded data removed]"
          },
          "metadata": {
            "needs_background": "light"
          }
        },
        {
          "output_type": "display_data",
          "data": {
            "text/plain": [
              "<Figure size 432x288 with 1 Axes>"
            ],
            "image/png": "[encoded data removed]"
          },
          "metadata": {
            "needs_background": "light"
          }
        }
      ],
      "source": [
        "def plot_nans(df, title=\"NaNs presentes en DF\"):\n",
        "    ax = plt.axes()\n",
        "    sns.heatmap(df.isnull(), cbar=False, ax=ax)\n",
        "    ax.set_title(title)\n",
        "    plt.show()\n",
        "\n",
        "plot_nans(dfe, \"NaNs en training\")\n",
        "plot_nans(dfp, \"NaNs en testing\")"
      ]
    },
    {
      "cell_type": "code",
      "execution_count": 226,
      "metadata": {
        "id": "Cr_hrzmSh_4q"
      },
      "outputs": [],
      "source": [
        "# Hacemos una imputación a manopla\n",
        "dfp.subcategory_prop.fillna(0.004184, inplace=True)"
      ]
    },
    {
      "cell_type": "code",
      "execution_count": 227,
      "metadata": {
        "id": "K_OsV4gOjt78"
      },
      "outputs": [],
      "source": [
        "# En testing no nos queda otra opción que imputar todo\n",
        "\n",
        "non_numeric_columns = []\n",
        "only_numeric_columns = []\n",
        "for c in dfe.columns:\n",
        "    if dfe[c].map(type).eq(str).any(): #check if there are any strings in column\n",
        "        non_numeric_columns.append(c)\n",
        "    elif dfe[c].map(type).eq(bool).any():\n",
        "        non_numeric_columns.append(c)\n",
        "    else:\n",
        "        only_numeric_columns.append(c)\n",
        "\n",
        "dfp_only_numeric = dfp[only_numeric_columns]\n",
        "dfe_only_numeric = dfe[only_numeric_columns]\n",
        "dfp_non_numeric = pd.DataFrame(dfp[non_numeric_columns])\n",
        "\n",
        "def imputacion_simple(df, columnas, df_train=None, strategy='median'):\n",
        "    if df_train is None:\n",
        "        # escenario de imputacion del propio df de entrenamiento\n",
        "        df_train = df\n",
        "    df_train_copy = df_train[columnas].copy()\n",
        "\n",
        "    imp = SimpleImputer(strategy=strategy)\n",
        "    imputador = imp.fit(df_train_copy)\n",
        "    df_imputado = imputador.transform(df)\n",
        "    return pd.DataFrame(df_imputado, columns=columnas, index=df.index)\n",
        "\n",
        "dfp_only_numeric = pd.DataFrame(imputacion_simple(dfp_only_numeric, dfp_only_numeric.columns, dfe_only_numeric), columns=dfp_only_numeric.columns) #only apply imputer to numeric columns\n",
        "\n",
        "dfp = pd.concat([dfp_only_numeric, dfp_non_numeric], axis = 1)\n"
      ]
    },
    {
      "cell_type": "code",
      "execution_count": 228,
      "metadata": {
        "colab": {
          "base_uri": "https://localhost:8080/",
          "height": 428
        },
        "id": "w-caTBSbbtz_",
        "outputId": "d93a16c1-2f4a-4522-a78a-6cffc36215e9"
      },
      "outputs": [
        {
          "output_type": "display_data",
          "data": {
            "text/plain": [
              "<Figure size 432x288 with 1 Axes>"
            ],
            "image/png": "[encoded data removed]"
          },
          "metadata": {
            "needs_background": "light"
          }
        }
      ],
      "source": [
        "plot_nans(dfp, \"NaNs en testing\")"
      ]
    },
    {
      "cell_type": "code",
      "execution_count": 229,
      "metadata": {
        "colab": {
          "base_uri": "https://localhost:8080/",
          "height": 1000
        },
        "id": "GplzEy4Vc6WS",
        "outputId": "c4bb487a-2f62-48ff-8631-b902b144b7c3"
      },
      "outputs": [
        {
          "output_type": "display_data",
          "data": {
            "text/plain": [
              "<Figure size 560x400 with 1 Axes>"
            ],
            "image/png": "[encoded data removed]"
          },
          "metadata": {
            "needs_background": "light"
          }
        },
        {
          "output_type": "display_data",
          "data": {
            "text/plain": [
              "<Figure size 560x400 with 1 Axes>"
            ],
            "image/png": "[encoded data removed]"
          },
          "metadata": {
            "needs_background": "light"
          }
        },
        {
          "output_type": "display_data",
          "data": {
            "text/plain": [
              "<Figure size 560x400 with 1 Axes>"
            ],
            "image/png": "[encoded data removed]"
          },
          "metadata": {
            "needs_background": "light"
          }
        },
        {
          "output_type": "display_data",
          "data": {
            "text/plain": [
              "<Figure size 560x400 with 1 Axes>"
            ],
            "image/png": "[encoded data removed]"
          },
          "metadata": {
            "needs_background": "light"
          }
        },
        {
          "output_type": "display_data",
          "data": {
            "text/plain": [
              "<Figure size 560x400 with 1 Axes>"
            ],
            "image/png": "[encoded data removed]"
          },
          "metadata": {
            "needs_background": "light"
          }
        },
        {
          "output_type": "display_data",
          "data": {
            "text/plain": [
              "<Figure size 560x400 with 1 Axes>"
            ],
            "image/png": "[encoded data removed]"
          },
          "metadata": {
            "needs_background": "light"
          }
        },
        {
          "output_type": "display_data",
          "data": {
            "text/plain": [
              "<Figure size 560x400 with 1 Axes>"
            ],
            "image/png": "[encoded data removed]"
          },
          "metadata": {
            "needs_background": "light"
          }
        },
        {
          "output_type": "display_data",
          "data": {
            "text/plain": [
              "<Figure size 560x400 with 1 Axes>"
            ],
            "image/png": "[encoded data removed]"
          },
          "metadata": {
            "needs_background": "light"
          }
        },
        {
          "output_type": "display_data",
          "data": {
            "text/plain": [
              "<Figure size 560x400 with 1 Axes>"
            ],
            "image/png": "[encoded data removed]"
          },
          "metadata": {
            "needs_background": "light"
          }
        }
      ],
      "source": [
        "# Histogramas de variables\n",
        "def graficar_histogramas(df, columns, ds_type=\"entrenamiento\"):\n",
        "  for column in columns:\n",
        "    plt.figure(figsize=(7, 5), dpi=80)\n",
        "    ax = df[column].plot.hist()\n",
        "    ax.set_title(f\"Histograma de {column} - {ds_type}\")\n",
        "    ax.set_xlabel(f\"Cantidad de {column}\")\n",
        "    plt.show()\n",
        "\n",
        "graficar_histogramas(dfe, only_numeric_columns)"
      ]
    },
    {
      "cell_type": "markdown",
      "metadata": {
        "id": "l5uOBtYKiJHA"
      },
      "source": [
        "## Pair Plot"
      ]
    },
    {
      "cell_type": "code",
      "execution_count": 230,
      "metadata": {
        "id": "wfwBWiqDen-5"
      },
      "outputs": [],
      "source": [
        "if False:\n",
        "  sns.pairplot(dfe);"
      ]
    },
    {
      "cell_type": "markdown",
      "metadata": {
        "id": "_l2-s1ZW8oPa"
      },
      "source": [
        "## Text Minig 2.0"
      ]
    },
    {
      "cell_type": "code",
      "execution_count": 231,
      "metadata": {
        "colab": {
          "base_uri": "https://localhost:8080/"
        },
        "id": "A4lqnJIP87sc",
        "outputId": "5625bf54-87c7-41b1-f783-9120418da5ca"
      },
      "outputs": [
        {
          "output_type": "stream",
          "name": "stderr",
          "text": [
            "[nltk_data] Downloading package punkt to /root/nltk_data...\n",
            "[nltk_data]   Package punkt is already up-to-date!\n",
            "[nltk_data] Downloading package stopwords to /root/nltk_data...\n",
            "[nltk_data]   Package stopwords is already up-to-date!\n",
            "[nltk_data] Downloading package wordnet to /root/nltk_data...\n",
            "[nltk_data]   Package wordnet is already up-to-date!\n"
          ]
        }
      ],
      "source": [
        "import nltk\n",
        "nltk.download('punkt')\n",
        "nltk.download('stopwords')\n",
        "nltk.download('wordnet')\n",
        "from nltk import word_tokenize\n",
        "from nltk.tokenize import RegexpTokenizer\n",
        "from nltk.corpus import stopwords\n",
        "from nltk.stem import SnowballStemmer\n",
        "from nltk.stem import WordNetLemmatizer\n",
        "\n",
        "\n",
        "dfe['title'] = dfe['title'].str.lower()\n",
        "dfp['title'] = dfp['title'].str.lower()\n",
        "dfe['headline'] = dfe['headline'].str.lower()\n",
        "dfp['headline'] = dfp['headline'].str.lower()\n",
        "dfe['objectives'] = dfe['objectives'].str.lower()\n",
        "dfp['objectives'] = dfp['objectives'].str.lower()"
      ]
    },
    {
      "cell_type": "code",
      "execution_count": 232,
      "metadata": {
        "colab": {
          "base_uri": "https://localhost:8080/"
        },
        "id": "kxljNppD8_CG",
        "outputId": "eaf8d3d6-3b89-4681-dd62-5e380a2733ca"
      },
      "outputs": [
        {
          "output_type": "execute_result",
          "data": {
            "text/plain": [
              "id\n",
              "1        aprende a tocar piano o teclado (desde nivel b...\n",
              "3        curso seo online curso seo práctico. aprenda a...\n",
              "4        aprende css3 sin dolor realiza animaciones aso...\n",
              "5        aprende javascript, html5 y css3 aprende los p...\n",
              "7        html5 aprenda a la poderosa herramienta que ha...\n",
              "                               ...                        \n",
              "11322    bootcamp de redacción publicitaria (copywritin...\n",
              "11323    estructuras de acero i: elementos a compresión...\n",
              "11324    fortinet security 6.4 - nse4 conviértase en un...\n",
              "11325    sanando a tu niña interior ¡reencuéntrate con ...\n",
              "11326    amazon aws certified solutions architect saa-c...\n",
              "Name: Texto, Length: 10316, dtype: object"
            ]
          },
          "metadata": {},
          "execution_count": 232
        }
      ],
      "source": [
        "dfc = pd.concat([dfe, dfp], axis=0)\n",
        "\n",
        "dfc[\"Texto\"] =dfc['title']+\" \"+ dfc[\"headline\"]+\" \"+ dfc[\"objectives\"]\n",
        "dfc['Texto'].astype(str) "
      ]
    },
    {
      "cell_type": "code",
      "source": [
        "dfc.Texto.describe"
      ],
      "metadata": {
        "colab": {
          "base_uri": "https://localhost:8080/"
        },
        "id": "G2SBjdMX26Jg",
        "outputId": "a3c74e83-39cf-48c0-99a1-67fb8f4efd71"
      },
      "execution_count": 233,
      "outputs": [
        {
          "output_type": "execute_result",
          "data": {
            "text/plain": [
              "<bound method NDFrame.describe of id\n",
              "1        aprende a tocar piano o teclado (desde nivel b...\n",
              "3        curso seo online curso seo práctico. aprenda a...\n",
              "4        aprende css3 sin dolor realiza animaciones aso...\n",
              "5        aprende javascript, html5 y css3 aprende los p...\n",
              "7        html5 aprenda a la poderosa herramienta que ha...\n",
              "                               ...                        \n",
              "11322    bootcamp de redacción publicitaria (copywritin...\n",
              "11323    estructuras de acero i: elementos a compresión...\n",
              "11324    fortinet security 6.4 - nse4 conviértase en un...\n",
              "11325    sanando a tu niña interior ¡reencuéntrate con ...\n",
              "11326    amazon aws certified solutions architect saa-c...\n",
              "Name: Texto, Length: 10316, dtype: object>"
            ]
          },
          "metadata": {},
          "execution_count": 233
        }
      ]
    },
    {
      "cell_type": "code",
      "execution_count": 234,
      "metadata": {
        "colab": {
          "base_uri": "https://localhost:8080/"
        },
        "id": "o_MLr0Vc9bgH",
        "outputId": "ebbf2935-e4e8-47e8-8add-1bf571827dfa"
      },
      "outputs": [
        {
          "output_type": "execute_result",
          "data": {
            "text/plain": [
              "id\n",
              "1        [aprender, tocar, piano, teclado, nivel, básic...\n",
              "3        [curso, seo, online, curso, seo, práctico, apr...\n",
              "4        [aprender, css3, dolor, realiza, animaciones, ...\n",
              "5        [aprender, javascript, html5, css3, aprender, ...\n",
              "7        [html5, aprenda, poderosa, herramienta, revolu...\n",
              "                               ...                        \n",
              "11322    [bootcamp, redacción, publicitaria, copywritin...\n",
              "11323    [estructuras, acero, i, elementos, compresión,...\n",
              "11324    [fortinet, security, 6, 4, nse4, conviértase, ...\n",
              "11325    [sanando, niña, interior, reencuéntrate, niña,...\n",
              "11326    [amazon, aws, certified, solutions, architect,...\n",
              "Name: Texto, Length: 10316, dtype: object"
            ]
          },
          "metadata": {},
          "execution_count": 234
        }
      ],
      "source": [
        "regexp = RegexpTokenizer('\\w+')\n",
        "dfc[\"Texto\"] = dfc[\"Texto\"].apply(regexp.tokenize)\n",
        "\n",
        "dicc_palabras = {'aprende': 'aprender', 'bases':'base', 'bases datos':'base datos', 'completa': 'completo', 'conocimientos': 'conocimiento', 'desarrollar':'desarrollo', 'disenar': 'diseno', 'gestionar': 'gestion',\n",
        "                 'herramientas': 'herramienta', 'manejar':'manejo', 'mejores':'mejor', 'modelos': 'modelo', 'negocios':'negocio', 'paginas': 'pagina', 'practicas': 'practica', 'practicos':'practico',\n",
        "                 'procesos':'proceso', 'profesionales': 'profesional', 'programar': 'programacion', 'proyectods': 'proyecto', 'tecnica': 'tecnicas', 'videos': 'video'}\n",
        "\n",
        "\n",
        "dfc['Texto'] = dfc['Texto'].apply(lambda texto: [dicc_palabras.get(token, token) for token in texto])\n",
        "dfc['Texto']\n",
        "#dfp[\"Texto\"] = dfp[\"Texto\"].apply(regexp.tokenize)\n",
        "\n",
        "stopwords = nltk.corpus.stopwords.words(\"spanish\")\n",
        "stopwords.extend(['es', 'osea', 'sólo', 'con', 'en', 'conocer', 'crear', 'utilizar', 'hacer', 'como', '10', '100', '2021','analizar','aprenderas','capaz', \n",
        "                  'cero', 'comprender', 'conoceras',\n",
        "       'construir', 'conviertete', 'crea','cualquier', \n",
        "        'domina', 'dominar', 'etc', 'generar',\n",
        "        'identificar', 'implementar','instalar','mas',\n",
        "       'mejorar', 'obtener', 'poder', 'podras','realizar', 'saber', 'ser',\n",
        "       'server', 'tener', 'tipo', 'tipos', 'todas', 'trabajar',\n",
        "       'trabajo', 'traves', 'usando', 'usar', 'uso',\n",
        "       'utilizando', 'vender', '2020'])\n",
        "\n",
        "dfc['Texto'] = dfc['Texto'].apply(lambda texto: [token for token in texto if token not in stopwords])\n",
        "#dfp['Texto'] = dfp['Texto'].apply(lambda texto: [token for token in texto if token not in stopwords])\n",
        "dfc['Texto']"
      ]
    },
    {
      "cell_type": "code",
      "execution_count": 235,
      "metadata": {
        "id": "b4Vd_Jof9n1M"
      },
      "outputs": [],
      "source": [
        "dfc['Texto'] = dfc['Texto'].str.join(' ')\n",
        "#dfp['Texto'] = dfp['Texto'].str.join(' ')\n",
        "\n",
        "from sklearn.feature_extraction.text import CountVectorizer, TfidfVectorizer"
      ]
    },
    {
      "cell_type": "markdown",
      "metadata": {
        "id": "Pz-HsLCF9hZj"
      },
      "source": [
        "### Modelo Top 15 columnas"
      ]
    },
    {
      "cell_type": "code",
      "execution_count": 236,
      "metadata": {
        "colab": {
          "base_uri": "https://localhost:8080/",
          "height": 1000
        },
        "id": "cYlXV7w69hv6",
        "outputId": "c5fdb559-5618-40f4-cf55-33ff7aba98a5"
      },
      "outputs": [
        {
          "output_type": "display_data",
          "data": {
            "text/plain": [
              "                                                   title  \\\n",
              "id                                                         \n",
              "1      aprende a tocar piano o teclado (desde nivel b...   \n",
              "3                                       curso seo online   \n",
              "4                                 aprende css3 sin dolor   \n",
              "5                       aprende javascript, html5 y css3   \n",
              "7                                                  html5   \n",
              "...                                                  ...   \n",
              "11322  bootcamp de redacción publicitaria (copywritin...   \n",
              "11323     estructuras de acero i: elementos a compresión   \n",
              "11324                       fortinet security 6.4 - nse4   \n",
              "11325                         sanando a tu niña interior   \n",
              "11326  amazon aws certified solutions architect saa-c...   \n",
              "\n",
              "                                                headline  \\\n",
              "id                                                         \n",
              "1      curso completo de piano con teoría para el fun...   \n",
              "3      curso seo práctico. aprenda a posicionar su si...   \n",
              "4      realiza animaciones asombrosas, antes imposibl...   \n",
              "5      aprende los principales lenguajes que dominan ...   \n",
              "7      aprenda a la poderosa herramienta que ha revol...   \n",
              "...                                                  ...   \n",
              "11322  puede escribir un texto que venda: redes socia...   \n",
              "11323  conceptos y aplicación con referencia al aisc ...   \n",
              "11324  conviértase en un especialista en el corto tie...   \n",
              "11325  ¡reencuéntrate con tu niña interior, sana tus ...   \n",
              "11326  aprueba el amazon aws certified solutions arch...   \n",
              "\n",
              "       is_practice_test_course bestseller    rating  num_published_lectures  \\\n",
              "id                                                                            \n",
              "1                        False         no  4.535809                    58.0   \n",
              "3                        False         no  3.841912                    76.0   \n",
              "4                        False         no  4.039739                    68.0   \n",
              "5                        False         si  4.643154                   550.0   \n",
              "7                        False         no  3.926147                   165.0   \n",
              "...                        ...        ...       ...                     ...   \n",
              "11322                    False        NaN  4.155691                    65.0   \n",
              "11323                    False        NaN  4.818863                    16.0   \n",
              "11324                    False        NaN  3.740466                    40.0   \n",
              "11325                    False        NaN  4.430968                    18.0   \n",
              "11326                     True        NaN  5.000000                     0.0   \n",
              "\n",
              "       num_published_practice_tests locale created_date  \\\n",
              "id                                                        \n",
              "1                               1.0  es_LA   2012-01-26   \n",
              "3                               0.0  es_ES   2011-06-13   \n",
              "4                               0.0  es_MX   2012-08-30   \n",
              "5                               0.0  es_MX   2012-08-30   \n",
              "7                               0.0  es_LA   2012-09-03   \n",
              "...                             ...    ...          ...   \n",
              "11322                           0.0  es_LA   2021-03-31   \n",
              "11323                           0.0  es_LA   2021-03-31   \n",
              "11324                           0.0  es_ES   2021-03-31   \n",
              "11325                           0.0  es_MX   2021-03-31   \n",
              "11326                           5.0  es_ES   2021-03-31   \n",
              "\n",
              "      instructional_level_simple  ... curso datos desarrollo forma  \\\n",
              "id                                ...                                \n",
              "1              Todos los niveles  ...     2     0          0     0   \n",
              "3              Todos los niveles  ...     2     0          0     0   \n",
              "4                     Intermedio  ...     0     0          0     0   \n",
              "5              Todos los niveles  ...     0     0          1     0   \n",
              "7              Todos los niveles  ...     0     0          0     0   \n",
              "...                          ...  ...   ...   ...        ...   ...   \n",
              "11322          Todos los niveles  ...     0     0          0     0   \n",
              "11323                 Intermedio  ...     0     0          0     0   \n",
              "11324                 Intermedio  ...     0     0          0     0   \n",
              "11325          Todos los niveles  ...     0     0          0     0   \n",
              "11326          Todos los niveles  ...     0     0          0     0   \n",
              "\n",
              "      herramienta paso profesional  programacion  tecnicas  web  \n",
              "id                                                               \n",
              "1               0    0           0             0         0    0  \n",
              "3               0    0           0             0         0    2  \n",
              "4               0    0           0             0         0    0  \n",
              "5               0    0           0             0         0    0  \n",
              "7               1    0           0             0         0    0  \n",
              "...           ...  ...         ...           ...       ...  ...  \n",
              "11322           0    0           0             0         0    2  \n",
              "11323           0    0           0             0         0    0  \n",
              "11324           0    0           0             0         0    0  \n",
              "11325           0    0           0             0         0    0  \n",
              "11326           0    0           0             0         0    0  \n",
              "\n",
              "[10316 rows x 39 columns]"
            ],
            "text/html": [
              "\n",
              "  <div id=\"df-798d7497-0c93-4ebc-850b-ab9c3100b66f\">\n",
              "    <div class=\"colab-df-container\">\n",
              "      <div>\n",
              "<style scoped>\n",
              "    .dataframe tbody tr th:only-of-type {\n",
              "        vertical-align: middle;\n",
              "    }\n",
              "\n",
              "    .dataframe tbody tr th {\n",
              "        vertical-align: top;\n",
              "    }\n",
              "\n",
              "    .dataframe thead th {\n",
              "        text-align: right;\n",
              "    }\n",
              "</style>\n",
              "<table border=\"1\" class=\"dataframe\">\n",
              "  <thead>\n",
              "    <tr style=\"text-align: right;\">\n",
              "      <th></th>\n",
              "      <th>title</th>\n",
              "      <th>headline</th>\n",
              "      <th>is_practice_test_course</th>\n",
              "      <th>bestseller</th>\n",
              "      <th>rating</th>\n",
              "      <th>num_published_lectures</th>\n",
              "      <th>num_published_practice_tests</th>\n",
              "      <th>locale</th>\n",
              "      <th>created_date</th>\n",
              "      <th>instructional_level_simple</th>\n",
              "      <th>...</th>\n",
              "      <th>curso</th>\n",
              "      <th>datos</th>\n",
              "      <th>desarrollo</th>\n",
              "      <th>forma</th>\n",
              "      <th>herramienta</th>\n",
              "      <th>paso</th>\n",
              "      <th>profesional</th>\n",
              "      <th>programacion</th>\n",
              "      <th>tecnicas</th>\n",
              "      <th>web</th>\n",
              "    </tr>\n",
              "    <tr>\n",
              "      <th>id</th>\n",
              "      <th></th>\n",
              "      <th></th>\n",
              "      <th></th>\n",
              "      <th></th>\n",
              "      <th></th>\n",
              "      <th></th>\n",
              "      <th></th>\n",
              "      <th></th>\n",
              "      <th></th>\n",
              "      <th></th>\n",
              "      <th></th>\n",
              "      <th></th>\n",
              "      <th></th>\n",
              "      <th></th>\n",
              "      <th></th>\n",
              "      <th></th>\n",
              "      <th></th>\n",
              "      <th></th>\n",
              "      <th></th>\n",
              "      <th></th>\n",
              "      <th></th>\n",
              "    </tr>\n",
              "  </thead>\n",
              "  <tbody>\n",
              "    <tr>\n",
              "      <th>1</th>\n",
              "      <td>aprende a tocar piano o teclado (desde nivel b...</td>\n",
              "      <td>curso completo de piano con teoría para el fun...</td>\n",
              "      <td>False</td>\n",
              "      <td>no</td>\n",
              "      <td>4.535809</td>\n",
              "      <td>58.0</td>\n",
              "      <td>1.0</td>\n",
              "      <td>es_LA</td>\n",
              "      <td>2012-01-26</td>\n",
              "      <td>Todos los niveles</td>\n",
              "      <td>...</td>\n",
              "      <td>2</td>\n",
              "      <td>0</td>\n",
              "      <td>0</td>\n",
              "      <td>0</td>\n",
              "      <td>0</td>\n",
              "      <td>0</td>\n",
              "      <td>0</td>\n",
              "      <td>0</td>\n",
              "      <td>0</td>\n",
              "      <td>0</td>\n",
              "    </tr>\n",
              "    <tr>\n",
              "      <th>3</th>\n",
              "      <td>curso seo online</td>\n",
              "      <td>curso seo práctico. aprenda a posicionar su si...</td>\n",
              "      <td>False</td>\n",
              "      <td>no</td>\n",
              "      <td>3.841912</td>\n",
              "      <td>76.0</td>\n",
              "      <td>0.0</td>\n",
              "      <td>es_ES</td>\n",
              "      <td>2011-06-13</td>\n",
              "      <td>Todos los niveles</td>\n",
              "      <td>...</td>\n",
              "      <td>2</td>\n",
              "      <td>0</td>\n",
              "      <td>0</td>\n",
              "      <td>0</td>\n",
              "      <td>0</td>\n",
              "      <td>0</td>\n",
              "      <td>0</td>\n",
              "      <td>0</td>\n",
              "      <td>0</td>\n",
              "      <td>2</td>\n",
              "    </tr>\n",
              "    <tr>\n",
              "      <th>4</th>\n",
              "      <td>aprende css3 sin dolor</td>\n",
              "      <td>realiza animaciones asombrosas, antes imposibl...</td>\n",
              "      <td>False</td>\n",
              "      <td>no</td>\n",
              "      <td>4.039739</td>\n",
              "      <td>68.0</td>\n",
              "      <td>0.0</td>\n",
              "      <td>es_MX</td>\n",
              "      <td>2012-08-30</td>\n",
              "      <td>Intermedio</td>\n",
              "      <td>...</td>\n",
              "      <td>0</td>\n",
              "      <td>0</td>\n",
              "      <td>0</td>\n",
              "      <td>0</td>\n",
              "      <td>0</td>\n",
              "      <td>0</td>\n",
              "      <td>0</td>\n",
              "      <td>0</td>\n",
              "      <td>0</td>\n",
              "      <td>0</td>\n",
              "    </tr>\n",
              "    <tr>\n",
              "      <th>5</th>\n",
              "      <td>aprende javascript, html5 y css3</td>\n",
              "      <td>aprende los principales lenguajes que dominan ...</td>\n",
              "      <td>False</td>\n",
              "      <td>si</td>\n",
              "      <td>4.643154</td>\n",
              "      <td>550.0</td>\n",
              "      <td>0.0</td>\n",
              "      <td>es_MX</td>\n",
              "      <td>2012-08-30</td>\n",
              "      <td>Todos los niveles</td>\n",
              "      <td>...</td>\n",
              "      <td>0</td>\n",
              "      <td>0</td>\n",
              "      <td>1</td>\n",
              "      <td>0</td>\n",
              "      <td>0</td>\n",
              "      <td>0</td>\n",
              "      <td>0</td>\n",
              "      <td>0</td>\n",
              "      <td>0</td>\n",
              "      <td>0</td>\n",
              "    </tr>\n",
              "    <tr>\n",
              "      <th>7</th>\n",
              "      <td>html5</td>\n",
              "      <td>aprenda a la poderosa herramienta que ha revol...</td>\n",
              "      <td>False</td>\n",
              "      <td>no</td>\n",
              "      <td>3.926147</td>\n",
              "      <td>165.0</td>\n",
              "      <td>0.0</td>\n",
              "      <td>es_LA</td>\n",
              "      <td>2012-09-03</td>\n",
              "      <td>Todos los niveles</td>\n",
              "      <td>...</td>\n",
              "      <td>0</td>\n",
              "      <td>0</td>\n",
              "      <td>0</td>\n",
              "      <td>0</td>\n",
              "      <td>1</td>\n",
              "      <td>0</td>\n",
              "      <td>0</td>\n",
              "      <td>0</td>\n",
              "      <td>0</td>\n",
              "      <td>0</td>\n",
              "    </tr>\n",
              "    <tr>\n",
              "      <th>...</th>\n",
              "      <td>...</td>\n",
              "      <td>...</td>\n",
              "      <td>...</td>\n",
              "      <td>...</td>\n",
              "      <td>...</td>\n",
              "      <td>...</td>\n",
              "      <td>...</td>\n",
              "      <td>...</td>\n",
              "      <td>...</td>\n",
              "      <td>...</td>\n",
              "      <td>...</td>\n",
              "      <td>...</td>\n",
              "      <td>...</td>\n",
              "      <td>...</td>\n",
              "      <td>...</td>\n",
              "      <td>...</td>\n",
              "      <td>...</td>\n",
              "      <td>...</td>\n",
              "      <td>...</td>\n",
              "      <td>...</td>\n",
              "      <td>...</td>\n",
              "    </tr>\n",
              "    <tr>\n",
              "      <th>11322</th>\n",
              "      <td>bootcamp de redacción publicitaria (copywritin...</td>\n",
              "      <td>puede escribir un texto que venda: redes socia...</td>\n",
              "      <td>False</td>\n",
              "      <td>NaN</td>\n",
              "      <td>4.155691</td>\n",
              "      <td>65.0</td>\n",
              "      <td>0.0</td>\n",
              "      <td>es_LA</td>\n",
              "      <td>2021-03-31</td>\n",
              "      <td>Todos los niveles</td>\n",
              "      <td>...</td>\n",
              "      <td>0</td>\n",
              "      <td>0</td>\n",
              "      <td>0</td>\n",
              "      <td>0</td>\n",
              "      <td>0</td>\n",
              "      <td>0</td>\n",
              "      <td>0</td>\n",
              "      <td>0</td>\n",
              "      <td>0</td>\n",
              "      <td>2</td>\n",
              "    </tr>\n",
              "    <tr>\n",
              "      <th>11323</th>\n",
              "      <td>estructuras de acero i: elementos a compresión</td>\n",
              "      <td>conceptos y aplicación con referencia al aisc ...</td>\n",
              "      <td>False</td>\n",
              "      <td>NaN</td>\n",
              "      <td>4.818863</td>\n",
              "      <td>16.0</td>\n",
              "      <td>0.0</td>\n",
              "      <td>es_LA</td>\n",
              "      <td>2021-03-31</td>\n",
              "      <td>Intermedio</td>\n",
              "      <td>...</td>\n",
              "      <td>0</td>\n",
              "      <td>0</td>\n",
              "      <td>0</td>\n",
              "      <td>0</td>\n",
              "      <td>0</td>\n",
              "      <td>0</td>\n",
              "      <td>0</td>\n",
              "      <td>0</td>\n",
              "      <td>0</td>\n",
              "      <td>0</td>\n",
              "    </tr>\n",
              "    <tr>\n",
              "      <th>11324</th>\n",
              "      <td>fortinet security 6.4 - nse4</td>\n",
              "      <td>conviértase en un especialista en el corto tie...</td>\n",
              "      <td>False</td>\n",
              "      <td>NaN</td>\n",
              "      <td>3.740466</td>\n",
              "      <td>40.0</td>\n",
              "      <td>0.0</td>\n",
              "      <td>es_ES</td>\n",
              "      <td>2021-03-31</td>\n",
              "      <td>Intermedio</td>\n",
              "      <td>...</td>\n",
              "      <td>0</td>\n",
              "      <td>0</td>\n",
              "      <td>0</td>\n",
              "      <td>0</td>\n",
              "      <td>0</td>\n",
              "      <td>0</td>\n",
              "      <td>0</td>\n",
              "      <td>0</td>\n",
              "      <td>0</td>\n",
              "      <td>0</td>\n",
              "    </tr>\n",
              "    <tr>\n",
              "      <th>11325</th>\n",
              "      <td>sanando a tu niña interior</td>\n",
              "      <td>¡reencuéntrate con tu niña interior, sana tus ...</td>\n",
              "      <td>False</td>\n",
              "      <td>NaN</td>\n",
              "      <td>4.430968</td>\n",
              "      <td>18.0</td>\n",
              "      <td>0.0</td>\n",
              "      <td>es_MX</td>\n",
              "      <td>2021-03-31</td>\n",
              "      <td>Todos los niveles</td>\n",
              "      <td>...</td>\n",
              "      <td>0</td>\n",
              "      <td>0</td>\n",
              "      <td>0</td>\n",
              "      <td>0</td>\n",
              "      <td>0</td>\n",
              "      <td>0</td>\n",
              "      <td>0</td>\n",
              "      <td>0</td>\n",
              "      <td>0</td>\n",
              "      <td>0</td>\n",
              "    </tr>\n",
              "    <tr>\n",
              "      <th>11326</th>\n",
              "      <td>amazon aws certified solutions architect saa-c...</td>\n",
              "      <td>aprueba el amazon aws certified solutions arch...</td>\n",
              "      <td>True</td>\n",
              "      <td>NaN</td>\n",
              "      <td>5.000000</td>\n",
              "      <td>0.0</td>\n",
              "      <td>5.0</td>\n",
              "      <td>es_ES</td>\n",
              "      <td>2021-03-31</td>\n",
              "      <td>Todos los niveles</td>\n",
              "      <td>...</td>\n",
              "      <td>0</td>\n",
              "      <td>0</td>\n",
              "      <td>0</td>\n",
              "      <td>0</td>\n",
              "      <td>0</td>\n",
              "      <td>0</td>\n",
              "      <td>0</td>\n",
              "      <td>0</td>\n",
              "      <td>0</td>\n",
              "      <td>0</td>\n",
              "    </tr>\n",
              "  </tbody>\n",
              "</table>\n",
              "<p>10316 rows × 39 columns</p>\n",
              "</div>\n",
              "      <button class=\"colab-df-convert\" onclick=\"convertToInteractive('df-798d7497-0c93-4ebc-850b-ab9c3100b66f')\"\n",
              "              title=\"Convert this dataframe to an interactive table.\"\n",
              "              style=\"display:none;\">\n",
              "        \n",
              "  <svg xmlns=\"http://www.w3.org/2000/svg\" height=\"24px\"viewBox=\"0 0 24 24\"\n",
              "       width=\"24px\">\n",
              "    <path d=\"M0 0h24v24H0V0z\" fill=\"none\"/>\n",
              "    <path d=\"M18.56 5.44l.94 2.06.94-2.06 2.06-.94-2.06-.94-.94-2.06-.94 2.06-2.06.94zm-11 1L8.5 8.5l.94-2.06 2.06-.94-2.06-.94L8.5 2.5l-.94 2.06-2.06.94zm10 10l.94 2.06.94-2.06 2.06-.94-2.06-.94-.94-2.06-.94 2.06-2.06.94z\"/><path d=\"M17.41 7.96l-1.37-1.37c-.4-.4-.92-.59-1.43-.59-.52 0-1.04.2-1.43.59L10.3 9.45l-7.72 7.72c-.78.78-.78 2.05 0 2.83L4 21.41c.39.39.9.59 1.41.59.51 0 1.02-.2 1.41-.59l7.78-7.78 2.81-2.81c.8-.78.8-2.07 0-2.86zM5.41 20L4 18.59l7.72-7.72 1.47 1.35L5.41 20z\"/>\n",
              "  </svg>\n",
              "      </button>\n",
              "      \n",
              "  <style>\n",
              "    .colab-df-container {\n",
              "      display:flex;\n",
              "      flex-wrap:wrap;\n",
              "      gap: 12px;\n",
              "    }\n",
              "\n",
              "    .colab-df-convert {\n",
              "      background-color: #E8F0FE;\n",
              "      border: none;\n",
              "      border-radius: 50%;\n",
              "      cursor: pointer;\n",
              "      display: none;\n",
              "      fill: #1967D2;\n",
              "      height: 32px;\n",
              "      padding: 0 0 0 0;\n",
              "      width: 32px;\n",
              "    }\n",
              "\n",
              "    .colab-df-convert:hover {\n",
              "      background-color: #E2EBFA;\n",
              "      box-shadow: 0px 1px 2px rgba(60, 64, 67, 0.3), 0px 1px 3px 1px rgba(60, 64, 67, 0.15);\n",
              "      fill: #174EA6;\n",
              "    }\n",
              "\n",
              "    [theme=dark] .colab-df-convert {\n",
              "      background-color: #3B4455;\n",
              "      fill: #D2E3FC;\n",
              "    }\n",
              "\n",
              "    [theme=dark] .colab-df-convert:hover {\n",
              "      background-color: #434B5C;\n",
              "      box-shadow: 0px 1px 3px 1px rgba(0, 0, 0, 0.15);\n",
              "      filter: drop-shadow(0px 1px 2px rgba(0, 0, 0, 0.3));\n",
              "      fill: #FFFFFF;\n",
              "    }\n",
              "  </style>\n",
              "\n",
              "      <script>\n",
              "        const buttonEl =\n",
              "          document.querySelector('#df-798d7497-0c93-4ebc-850b-ab9c3100b66f button.colab-df-convert');\n",
              "        buttonEl.style.display =\n",
              "          google.colab.kernel.accessAllowed ? 'block' : 'none';\n",
              "\n",
              "        async function convertToInteractive(key) {\n",
              "          const element = document.querySelector('#df-798d7497-0c93-4ebc-850b-ab9c3100b66f');\n",
              "          const dataTable =\n",
              "            await google.colab.kernel.invokeFunction('convertToInteractive',\n",
              "                                                     [key], {});\n",
              "          if (!dataTable) return;\n",
              "\n",
              "          const docLinkHtml = 'Like what you see? Visit the ' +\n",
              "            '<a target=\"_blank\" href=https://colab.research.google.com/notebooks/data_table.ipynb>data table notebook</a>'\n",
              "            + ' to learn more about interactive tables.';\n",
              "          element.innerHTML = '';\n",
              "          dataTable['output_type'] = 'display_data';\n",
              "          await google.colab.output.renderOutput(dataTable, element);\n",
              "          const docLink = document.createElement('div');\n",
              "          docLink.innerHTML = docLinkHtml;\n",
              "          element.appendChild(docLink);\n",
              "        }\n",
              "      </script>\n",
              "    </div>\n",
              "  </div>\n",
              "  "
            ]
          },
          "metadata": {}
        }
      ],
      "source": [
        "vectorizer = CountVectorizer(analyzer='word', ngram_range=(1, 3), min_df=0.009, max_df=0.7, strip_accents='ascii', max_features=15)\n",
        "vectorized_data = vectorizer.fit_transform(dfc['Texto'])\n",
        "\n",
        "count_df = pd.DataFrame(vectorized_data.toarray(), columns=vectorizer.get_feature_names_out())\n",
        "count_df.index = dfc.index \n",
        "dfc = pd.concat([dfc, count_df], axis=1)\n",
        "display(dfc)"
      ]
    },
    {
      "cell_type": "markdown",
      "metadata": {
        "id": "b8uFx5qC90UZ"
      },
      "source": [
        "### Modelo Top 200 (1 sola columna)"
      ]
    },
    {
      "cell_type": "code",
      "execution_count": 237,
      "metadata": {
        "id": "ZgMhjNbX93RV"
      },
      "outputs": [],
      "source": [
        "vectorizer200 = TfidfVectorizer(analyzer='word', ngram_range=(1, 2), min_df=0.009, max_df=0.9, strip_accents='ascii', max_features=200)\n",
        "vectorizer200._validate_vocabulary()\n",
        "\n",
        "vectorized_data_200 = vectorizer200.fit_transform(dfc['Texto'])\n",
        "\n",
        "\n",
        "tfidf_df = pd.DataFrame(vectorized_data_200.toarray(), columns=vectorizer200.get_feature_names_out())\n",
        "tfidf_df['200_palabras_clave'] = tfidf_df[list(tfidf_df.columns)].sum(axis=1)\n",
        "\n",
        "dfc['200_palabras_clave'] = tfidf_df['200_palabras_clave'] \n",
        "dfc['200_palabras_clave'] = dfc['200_palabras_clave'].fillna(value = 0)\n"
      ]
    },
    {
      "cell_type": "code",
      "execution_count": 238,
      "metadata": {
        "colab": {
          "base_uri": "https://localhost:8080/"
        },
        "id": "wBhaSYY2vs8p",
        "outputId": "9faa405e-f63a-4da7-8b73-88bb0f018d9a"
      },
      "outputs": [
        {
          "output_type": "execute_result",
          "data": {
            "text/plain": [
              "0"
            ]
          },
          "metadata": {},
          "execution_count": 238
        }
      ],
      "source": [
        "dfc['200_palabras_clave'].isna().sum()"
      ]
    },
    {
      "cell_type": "markdown",
      "metadata": {
        "id": "XTEYcDxg94w9"
      },
      "source": [
        "## Vuelvo a separar en entrenamiento y prueba"
      ]
    },
    {
      "cell_type": "code",
      "execution_count": 239,
      "metadata": {
        "id": "BKEtjCCf94Og"
      },
      "outputs": [],
      "source": [
        "dfp = dfc.loc[dfc['bestseller'].isna()].copy()\n",
        "#df_pred.index.name = \"id\" \n",
        "dfe = dfc.loc[dfc['bestseller'].notna()].copy()"
      ]
    },
    {
      "cell_type": "markdown",
      "metadata": {
        "id": "clJ-fNk5OEXe"
      },
      "source": [
        "## Date to Number"
      ]
    },
    {
      "cell_type": "code",
      "execution_count": 240,
      "metadata": {
        "colab": {
          "base_uri": "https://localhost:8080/",
          "height": 287
        },
        "id": "XzmG2W9FOE7T",
        "outputId": "f34a6327-f985-4cda-ddd9-27ddec41c69f"
      },
      "outputs": [
        {
          "output_type": "execute_result",
          "data": {
            "text/plain": [
              "<matplotlib.axes._subplots.AxesSubplot at 0x7f04bb74a910>"
            ]
          },
          "metadata": {},
          "execution_count": 240
        },
        {
          "output_type": "display_data",
          "data": {
            "text/plain": [
              "<Figure size 432x288 with 2 Axes>"
            ],
            "image/png": "[encoded data removed]"
          },
          "metadata": {
            "needs_background": "light"
          }
        }
      ],
      "source": [
        "df_date = pd.concat([dfe, dfp], axis=0)\n",
        "\n",
        "df_date[\"created_date_num\"] = pd.to_datetime(df_date[\"created_date\"])\n",
        "df_date['created_date_num'] = df_date['created_date_num'].apply(lambda x: x.value)\n",
        "df_date['created_date_num'] = df_date['created_date_num'].astype(float)\n",
        "\n",
        "df_date['published_date_num'] = pd.to_datetime(df_date[\"published_date\"])\n",
        "df_date['published_date_num'] = df_date['published_date_num'].apply(lambda x: x.value)\n",
        "df_date['published_date_num'] = df_date['published_date_num'].astype(float)\n",
        "\n",
        "if not TRATAMIENTO_FINO_NAN:\n",
        "  df_date['last_update_date_num'] = pd.to_datetime(df_date[\"last_update_date\"])\n",
        "  df_date['last_update_date_num'] = df_date['last_update_date_num'].apply(lambda x: x.value)\n",
        "  df_date['last_update_date_num'] = df_date['last_update_date_num'].astype(float)\n",
        "  cols_to_corr = ['created_date_num','published_date_num', 'last_update_date_num']\n",
        "else:\n",
        "  cols_to_corr = ['created_date_num','published_date_num'] \n",
        "\n",
        "dfcorr = df_date[df_date.bestseller.isna() == False]\n",
        "\n",
        "columnas_corr = cols_to_corr\n",
        "\n",
        "dfcorr = dfcorr[columnas_corr]\n",
        "\n",
        "sns.heatmap(dfcorr.corr())"
      ]
    },
    {
      "cell_type": "code",
      "execution_count": 241,
      "metadata": {
        "id": "FCAseMgCR-J3"
      },
      "outputs": [],
      "source": [
        "dfp = df_date.loc[df_date['bestseller'].isna()].copy()\n",
        "#df_pred.index.name = \"id\" \n",
        "dfe = df_date.loc[df_date['bestseller'].notna()].copy()"
      ]
    },
    {
      "cell_type": "code",
      "execution_count": 242,
      "metadata": {
        "id": "sNNNSjLrTWIk"
      },
      "outputs": [],
      "source": [
        "if not TRATAMIENTO_FINO_NAN:\n",
        "  max_lud = dfe.last_update_date_num.max()\n",
        "  min_lud = dfe.last_update_date_num.min()\n",
        "\n",
        "  dfp['last_update_date_num'] = (dfp['last_update_date_num']-min_lud)/(max_lud-min_lud)\n",
        "  dfe['last_update_date_num'] = (dfe['last_update_date_num']-min_lud)/(max_lud-min_lud)"
      ]
    },
    {
      "cell_type": "code",
      "execution_count": 243,
      "metadata": {
        "id": "kRQ4xZyyUJmM"
      },
      "outputs": [],
      "source": [
        "max_pdn = dfe.published_date_num.max()\n",
        "min_pdn = dfe.published_date_num.min()\n",
        "\n",
        "dfp['published_date_num'] = (dfp['published_date_num']-min_pdn)/(max_pdn-min_pdn)\n",
        "dfe['published_date_num'] = (dfe['published_date_num']-min_pdn)/(max_pdn-min_pdn)"
      ]
    },
    {
      "cell_type": "markdown",
      "source": [
        "## Columna de instructores con Bestsellers en Entrenamiento\n"
      ],
      "metadata": {
        "id": "8HMbY3omqcEG"
      }
    },
    {
      "cell_type": "code",
      "source": [
        "from sklearn.naive_bayes import CategoricalNB\n",
        "\n",
        "bagger = CountVectorizer()\n",
        "instructors = dfe['instructors'].str.replace(',', ' ')\n",
        "bagger.fit(instructors)\n",
        "bow = bagger.transform(instructors)\n",
        "\n",
        "nb = CategoricalNB()\n",
        "nb.fit(bow.toarray(), dfe['bestseller'])\n",
        "\n",
        "pdnb_e = pd.DataFrame(nb.predict_proba(bow.toarray()), index=dfe.index, columns=nb.classes_)\n",
        "\n",
        "bow_testing = bagger.transform(dfp['instructors'].str.replace(',', ' '))\n",
        "pdnb_p = pd.DataFrame(nb.predict_proba(bow_testing.toarray()), index=dfp.index, columns=nb.classes_)"
      ],
      "metadata": {
        "id": "jxrnhX7mqY81"
      },
      "execution_count": 244,
      "outputs": []
    },
    {
      "cell_type": "code",
      "source": [
        "dfe[\"nb_si\"] = pdnb_e[\"si\"]\n",
        "dfp[\"nb_si\"] = pdnb_p[\"si\"]"
      ],
      "metadata": {
        "id": "tc8qrJNSx0zF"
      },
      "execution_count": 245,
      "outputs": []
    },
    {
      "cell_type": "markdown",
      "metadata": {
        "id": "c9ffyxLtcrUq"
      },
      "source": [
        "## Columnas Varias"
      ]
    },
    {
      "cell_type": "code",
      "execution_count": 246,
      "metadata": {
        "colab": {
          "base_uri": "https://localhost:8080/"
        },
        "id": "xUVIARftcvN2",
        "outputId": "fe9d9e1c-298f-4145-a52a-5d58ea19dd4a"
      },
      "outputs": [
        {
          "output_type": "stream",
          "name": "stderr",
          "text": [
            "/usr/local/lib/python3.7/dist-packages/ipykernel_launcher.py:21: UserWarning: Boolean Series key will be reindexed to match DataFrame index.\n",
            "/usr/local/lib/python3.7/dist-packages/ipykernel_launcher.py:65: UserWarning: Boolean Series key will be reindexed to match DataFrame index.\n"
          ]
        }
      ],
      "source": [
        "df = pd.concat([dfe, dfp], axis=0)\n",
        "\n",
        "\n",
        "df['precio_como_numero'] = df.list_price.str[1:].astype('float')\n",
        "if TRATAMIENTO_FINO_NAN:\n",
        "  df['precio_neto'] = df['discount_price']\n",
        "else:\n",
        "  df['precio_neto'] = (df['discount_price'].str.strip('$').astype(float))\n",
        "df['precio_neto'] = df['precio_neto'].fillna(df['precio_como_numero'])\n",
        "\n",
        "#tiene_descuento = np.where(df['precio_como_numero'] != df['precio_neto'], True, False)\n",
        "#df['tiene_descuento'] = tiene_descuento\n",
        "\n",
        "df['descuento_aplicado'] = df['precio_como_numero'] - df['precio_neto']\n",
        "\n",
        "\n",
        "df['cantidad_instructores'] = df.instructors.str.count(',') + 1 # Contamos las comas, mas 1\n",
        "df['cantidad_instructores'] = df['cantidad_instructores'].fillna(1) # Instructor con NaN lo tomamos como 1\n",
        "\n",
        "\n",
        "cursos_por_instructor = dict(df[mascara_filtra_entrenamiento].instructors.str.get_dummies(sep=',').sum())\n",
        "\n",
        "def asignar_cantidad_cursos_dictados(fila, cursos_por_instructor):\n",
        "  try:\n",
        "    instructores_del_curso = fila.instructors.split(',')\n",
        "  except AttributeError as ae:\n",
        "    # esto pasa cuando fila.instructors es NaN\n",
        "    return 1\n",
        "\n",
        "  cantidad_cursos_dictados = 0\n",
        "  for instructor in instructores_del_curso:\n",
        "    if instructor not in cursos_por_instructor.keys():\n",
        "      cursos_por_instructor[instructor] = 0\n",
        "    cantidad_cursos_dictados += cursos_por_instructor[instructor]\n",
        "  return cantidad_cursos_dictados\n",
        "\n",
        "def asignar_cantidad_cursos_dictados_media(fila, cursos_por_instructor):\n",
        "  try:\n",
        "    instructores_del_curso = fila.instructors.split(',')\n",
        "  except AttributeError as ae:\n",
        "    # esto pasa cuando fila.instructors es NaN\n",
        "    return 1\n",
        "\n",
        "  cantidad_cursos_dictados = []\n",
        "  for instructor in instructores_del_curso:\n",
        "    if instructor not in cursos_por_instructor.keys():\n",
        "      cursos_por_instructor[instructor] = 0\n",
        "    cantidad_cursos_dictados.append(cursos_por_instructor[instructor])\n",
        "  return sum(cantidad_cursos_dictados)/len(cantidad_cursos_dictados)\n",
        "\n",
        "df['cantidad_cursos_dictados'] = df.apply(asignar_cantidad_cursos_dictados, axis=1, args=(cursos_por_instructor,))\n",
        "#df['cantidad_cursos_dictados_media'] = df.apply(asignar_cantidad_cursos_dictados_media, axis=1, args=(cursos_por_instructor,))\n",
        "\n",
        "df['examen']= df.loc[df['is_practice_test_course'] == True, 'content_info_short'].str.replace(' preguntas', '').astype('float')\n",
        "df['examen']=df['examen'].fillna(0)\n",
        "\n",
        "df['content_info_string']=df['content_info_short'].str.split(' ').str[1]\n",
        "df['content_info_string'] = df['content_info_string'].str.replace('s', '')\n",
        "df['horas_cursada']= df['content_info_short'].str.replace(',', '.').str.replace('s', '')\n",
        "df['horas_cursada'] = df.loc[df['content_info_string'] == 'hora', 'horas_cursada'].str.replace(' hora', '').astype('float')\n",
        "df['minutos_cursada'] = df['content_info_short'].str.replace(',', '.').str.replace('s', '')\n",
        "df['minutos_cursada'] = df.loc[df['content_info_string'] == 'minuto', 'minutos_cursada'].str.replace(' minuto', '').astype('float')\n",
        "df['minutos_cursada'] = df['minutos_cursada'].div(60)\n",
        "df['horas_cursada'] = df['horas_cursada'].fillna(df['minutos_cursada'])\n",
        "df['horas_cursada_media'] = df['horas_cursada'].fillna((df[mascara_filtra_entrenamiento]['horas_cursada'].median()))\n",
        "\n",
        "df['costo_por_hora'] = df['precio_neto']/df['horas_cursada_media']\n",
        "\n",
        "\n",
        "# Vuelvo a separar\n",
        "\n",
        "dfp = df.loc[df['bestseller'].isna()].copy()\n",
        "#df_pred.index.name = \"id\" \n",
        "dfe = df.loc[df['bestseller'].notna()].copy()"
      ]
    },
    {
      "cell_type": "markdown",
      "metadata": {
        "id": "JlVF03q2-Egr"
      },
      "source": [
        "## Modelización 2.0"
      ]
    },
    {
      "cell_type": "code",
      "execution_count": 247,
      "metadata": {
        "colab": {
          "base_uri": "https://localhost:8080/"
        },
        "id": "X8mDgJq5j-z7",
        "outputId": "c43fe69b-d163-43f0-db14-7232912afe1f"
      },
      "outputs": [
        {
          "output_type": "execute_result",
          "data": {
            "text/plain": [
              "title                                 0\n",
              "headline                              0\n",
              "is_practice_test_course               0\n",
              "bestseller                            0\n",
              "rating                                0\n",
              "num_published_lectures                0\n",
              "num_published_practice_tests          0\n",
              "locale                                0\n",
              "created_date                          0\n",
              "instructional_level_simple            0\n",
              "published_date                        0\n",
              "content_info_short                    0\n",
              "instructors                           0\n",
              "category                              0\n",
              "subcategory                           0\n",
              "objectives                            0\n",
              "list_price                            0\n",
              "discount_price                        0\n",
              "locale_prop                           0\n",
              "instructional_level_simple_prop       0\n",
              "instructors_prop                      0\n",
              "category_prop                         0\n",
              "subcategory_prop                      0\n",
              "Texto                                 0\n",
              "aprender                              0\n",
              "aprenderas                            0\n",
              "base                                  0\n",
              "como                                  0\n",
              "completo                              0\n",
              "curso                                 0\n",
              "datos                                 0\n",
              "desarrollo                            0\n",
              "forma                                 0\n",
              "herramienta                           0\n",
              "paso                                  0\n",
              "profesional                           0\n",
              "programacion                          0\n",
              "tecnicas                              0\n",
              "web                                   0\n",
              "200_palabras_clave                    0\n",
              "created_date_num                      0\n",
              "published_date_num                    0\n",
              "nb_si                                 0\n",
              "precio_como_numero                    0\n",
              "precio_neto                           0\n",
              "descuento_aplicado                    0\n",
              "cantidad_instructores                 0\n",
              "cantidad_cursos_dictados              0\n",
              "examen                                0\n",
              "content_info_string                   0\n",
              "horas_cursada                       178\n",
              "minutos_cursada                    9603\n",
              "horas_cursada_media                   0\n",
              "costo_por_hora                        0\n",
              "dtype: int64"
            ]
          },
          "metadata": {},
          "execution_count": 247
        }
      ],
      "source": [
        "dfe.isna().sum()"
      ]
    },
    {
      "cell_type": "code",
      "execution_count": 248,
      "metadata": {
        "id": "u3Tkh-5u36oG"
      },
      "outputs": [],
      "source": [
        "#df_entrenamiento.isna().sum()\n",
        "#df_entrenamiento.dropna().shape\n",
        "if TRATAMIENTO_FINO_NAN:\n",
        "  columnas_a_eliminar = [\n",
        "    'title',\n",
        "    'headline',\n",
        "    'created_date',\n",
        "    'published_date',\n",
        "    'objectives',\n",
        "    'created_date_num',\n",
        "    'Texto',\n",
        "    #'200_palabras_clave',   #solucionado\n",
        "    'is_practice_test_course',\n",
        "    'locale',\n",
        "    'instructional_level_simple',\n",
        "    'content_info_short',\n",
        "    'instructors',\n",
        "    'category',\n",
        "    'subcategory',\n",
        "    'list_price',\n",
        "    'discount_price',\n",
        "    'content_info_string',\n",
        "    'horas_cursada',\n",
        "    'minutos_cursada'\n",
        "  ]\n",
        "else:\n",
        "  columnas_a_eliminar = [\n",
        "    'title',\n",
        "    'headline',\n",
        "    'created_date',\n",
        "    'published_date',\n",
        "    'last_update_date',\n",
        "    'objectives',\n",
        "    'created_date_num',\n",
        "    'Texto',\n",
        "    #'200_palabras_clave',   #solucionado\n",
        "    'is_practice_test_course',\n",
        "    'captions',\n",
        "    'locale',\n",
        "    'instructional_level_simple',\n",
        "    'content_info_short',\n",
        "    'instructors',\n",
        "    'category',\n",
        "    'subcategory',\n",
        "    'list_price',\n",
        "    'discount_price',\n",
        "    'content_info_string',\n",
        "    'horas_cursada',\n",
        "    'minutos_cursada'\n",
        "  ]\n"
      ]
    },
    {
      "cell_type": "code",
      "execution_count": 249,
      "metadata": {
        "id": "n7KTEZR0lk8l"
      },
      "outputs": [],
      "source": [
        "## EL SIGUIENTE DROPNA BORRA VARIOS MILES DE REGISTROS. SE HIZO PARA NO IMPUTAR\n",
        "#dfe1 = dfe.dropna()[dfe.columns.drop(columnas_a_eliminar)].copy()\n",
        "#dfp1 = dfp[dfp.columns.drop(columnas_a_eliminar)].copy()\n",
        "\n",
        "dfe = dfe[dfe.columns.drop(columnas_a_eliminar)].copy()\n",
        "dfp = dfp[dfp.columns.drop(columnas_a_eliminar)].copy()\n",
        "\n",
        "dfe = dfe.dropna()"
      ]
    },
    {
      "cell_type": "code",
      "execution_count": 250,
      "metadata": {
        "colab": {
          "base_uri": "https://localhost:8080/"
        },
        "id": "oTvwk1gJ-yTU",
        "outputId": "774d63f3-dfd0-4a8a-f177-0b4c40adad9d"
      },
      "outputs": [
        {
          "output_type": "stream",
          "name": "stdout",
          "text": [
            "(10077, 35)\n",
            "(239, 35)\n"
          ]
        }
      ],
      "source": [
        "print(dfe.shape)\n",
        "print(dfp.shape)"
      ]
    },
    {
      "cell_type": "code",
      "source": [
        "def hacer_log(df):\n",
        "  return np.log(df)\n",
        "\n",
        "def hacer_log10(df):\n",
        "  return np.log10(df)\n",
        "\n",
        "def hacer_exp(df):\n",
        "  return np.exp(df)\n",
        "\n",
        "def hacer_sqrt(df):\n",
        "  return np.sqrt(df)\n",
        "\n",
        "# Estandarización selectiva\n",
        "estandarizador_por_columna = {\n",
        "    'rating': hacer_exp,\n",
        "    'nb_si': hacer_sqrt,\n",
        "    'precio_como_numero': hacer_log10,\n",
        "    'cantidad_cursos_dictados': hacer_log,\n",
        "    #'num_published_lectures': hacer_log,\n",
        "    'horas_cursada_media': hacer_log,\n",
        "}\n",
        "\n",
        "for columna, funcion in estandarizador_por_columna.items():\n",
        "  figure, ax = plt.subplots(1, 2, figsize=(13, 4), sharey=True)\n",
        "  \n",
        "  figure.suptitle(f'Forma de columna {columna} - Aplicando funcion {funcion. __name__}')\n",
        "\n",
        "  ax[0].hist(dfe[columna])\n",
        "  ax[0].set_title(\"Pre\")\n",
        "  \n",
        "  ax[1].hist(funcion(dfe[columna]))\n",
        "  ax[1].set_title(\"Post\")\n",
        "  \n",
        "  plt.show()\n"
      ],
      "metadata": {
        "colab": {
          "base_uri": "https://localhost:8080/",
          "height": 1000
        },
        "id": "caDcbJqd1iTs",
        "outputId": "687ff5ac-9d82-4914-f1f6-f9d068949932"
      },
      "execution_count": 251,
      "outputs": [
        {
          "output_type": "display_data",
          "data": {
            "text/plain": [
              "<Figure size 936x288 with 2 Axes>"
            ],
            "image/png": "[encoded data removed]"
          },
          "metadata": {
            "needs_background": "light"
          }
        },
        {
          "output_type": "display_data",
          "data": {
            "text/plain": [
              "<Figure size 936x288 with 2 Axes>"
            ],
            "image/png": "[encoded data removed]"
          },
          "metadata": {
            "needs_background": "light"
          }
        },
        {
          "output_type": "display_data",
          "data": {
            "text/plain": [
              "<Figure size 936x288 with 2 Axes>"
            ],
            "image/png": "[encoded data removed]"
          },
          "metadata": {
            "needs_background": "light"
          }
        },
        {
          "output_type": "display_data",
          "data": {
            "text/plain": [
              "<Figure size 936x288 with 2 Axes>"
            ],
            "image/png": "[encoded data removed]"
          },
          "metadata": {
            "needs_background": "light"
          }
        },
        {
          "output_type": "display_data",
          "data": {
            "text/plain": [
              "<Figure size 936x288 with 2 Axes>"
            ],
            "image/png": "[encoded data removed]"
          },
          "metadata": {
            "needs_background": "light"
          }
        }
      ]
    },
    {
      "cell_type": "code",
      "source": [
        "INPLACE=True # Aplica a los dfs lo visto en la celda anterior\n",
        "if INPLACE:\n",
        "  dfe[columna] = funcion(dfe[columna])\n",
        "  dfp[columna] = funcion(dfp[columna])"
      ],
      "metadata": {
        "id": "8Y-3_kyNAA38"
      },
      "execution_count": 252,
      "outputs": []
    },
    {
      "cell_type": "code",
      "source": [
        "import numpy as np\n",
        "from sklearn.decomposition import PCA\n",
        "\n",
        "X_PCA = dfe\n",
        "X_PCA = X_PCA.drop(['bestseller'], axis = 1)\n",
        "\n",
        "pca = PCA()\n",
        "pca.fit(X_PCA)\n",
        "\n",
        "# number of components\n",
        "n_pcs= pca.components_.shape[0]\n",
        "\n",
        "# get the index of the most important feature on EACH component i.e. largest absolute value\n",
        "# using LIST COMPREHENSION\n",
        "\n",
        "most_important = [np.abs(pca.components_[i]).argmax() for i in range(n_pcs)]\n",
        "\n",
        "initial_feature_names = X_PCA.columns\n",
        "\n",
        "# get the names\n",
        "most_important_names = [initial_feature_names[most_important[i]] for i in range(n_pcs)]\n",
        "\n",
        "# using LIST COMPREHENSION HERE AGAIN\n",
        "dic = {i+1: most_important_names[i] for i in range(n_pcs)}\n",
        "\n",
        "# build the dataframe\n",
        "df_PCA = pd.DataFrame(sorted(dic.items()))\n",
        "\n",
        "ColsPCA = list(set(list(df_PCA[:5][1]) + ['nb_si']))"
      ],
      "metadata": {
        "id": "guJdafEr5UGl"
      },
      "execution_count": 253,
      "outputs": []
    },
    {
      "cell_type": "code",
      "source": [
        "df_PCA"
      ],
      "metadata": {
        "colab": {
          "base_uri": "https://localhost:8080/",
          "height": 1000
        },
        "id": "Qt8UkAvlB8VP",
        "outputId": "612e5c0d-4419-4a90-e9c4-b71c7f635f7a"
      },
      "execution_count": 254,
      "outputs": [
        {
          "output_type": "execute_result",
          "data": {
            "text/plain": [
              "     0                                1\n",
              "0    1           num_published_lectures\n",
              "1    2               precio_como_numero\n",
              "2    3                           examen\n",
              "3    4         cantidad_cursos_dictados\n",
              "4    5                   costo_por_hora\n",
              "5    6                      precio_neto\n",
              "6    7               200_palabras_clave\n",
              "7    8                         aprender\n",
              "8    9                            curso\n",
              "9   10                              web\n",
              "10  11                              web\n",
              "11  12                             como\n",
              "12  13                     programacion\n",
              "13  14                       aprenderas\n",
              "14  15                           rating\n",
              "15  16                             paso\n",
              "16  17                      profesional\n",
              "17  18                       desarrollo\n",
              "18  19                      herramienta\n",
              "19  20                         tecnicas\n",
              "20  21     num_published_practice_tests\n",
              "21  22                            forma\n",
              "22  23                             base\n",
              "23  24            cantidad_instructores\n",
              "24  25              horas_cursada_media\n",
              "25  26                         completo\n",
              "26  27                      locale_prop\n",
              "27  28               published_date_num\n",
              "28  29                            nb_si\n",
              "29  30  instructional_level_simple_prop\n",
              "30  31                    category_prop\n",
              "31  32                 subcategory_prop\n",
              "32  33                 instructors_prop\n",
              "33  34               precio_como_numero"
            ],
            "text/html": [
              "\n",
              "  <div id=\"df-d0246ffb-09af-4e21-94e6-a5f7bfddd068\">\n",
              "    <div class=\"colab-df-container\">\n",
              "      <div>\n",
              "<style scoped>\n",
              "    .dataframe tbody tr th:only-of-type {\n",
              "        vertical-align: middle;\n",
              "    }\n",
              "\n",
              "    .dataframe tbody tr th {\n",
              "        vertical-align: top;\n",
              "    }\n",
              "\n",
              "    .dataframe thead th {\n",
              "        text-align: right;\n",
              "    }\n",
              "</style>\n",
              "<table border=\"1\" class=\"dataframe\">\n",
              "  <thead>\n",
              "    <tr style=\"text-align: right;\">\n",
              "      <th></th>\n",
              "      <th>0</th>\n",
              "      <th>1</th>\n",
              "    </tr>\n",
              "  </thead>\n",
              "  <tbody>\n",
              "    <tr>\n",
              "      <th>0</th>\n",
              "      <td>1</td>\n",
              "      <td>num_published_lectures</td>\n",
              "    </tr>\n",
              "    <tr>\n",
              "      <th>1</th>\n",
              "      <td>2</td>\n",
              "      <td>precio_como_numero</td>\n",
              "    </tr>\n",
              "    <tr>\n",
              "      <th>2</th>\n",
              "      <td>3</td>\n",
              "      <td>examen</td>\n",
              "    </tr>\n",
              "    <tr>\n",
              "      <th>3</th>\n",
              "      <td>4</td>\n",
              "      <td>cantidad_cursos_dictados</td>\n",
              "    </tr>\n",
              "    <tr>\n",
              "      <th>4</th>\n",
              "      <td>5</td>\n",
              "      <td>costo_por_hora</td>\n",
              "    </tr>\n",
              "    <tr>\n",
              "      <th>5</th>\n",
              "      <td>6</td>\n",
              "      <td>precio_neto</td>\n",
              "    </tr>\n",
              "    <tr>\n",
              "      <th>6</th>\n",
              "      <td>7</td>\n",
              "      <td>200_palabras_clave</td>\n",
              "    </tr>\n",
              "    <tr>\n",
              "      <th>7</th>\n",
              "      <td>8</td>\n",
              "      <td>aprender</td>\n",
              "    </tr>\n",
              "    <tr>\n",
              "      <th>8</th>\n",
              "      <td>9</td>\n",
              "      <td>curso</td>\n",
              "    </tr>\n",
              "    <tr>\n",
              "      <th>9</th>\n",
              "      <td>10</td>\n",
              "      <td>web</td>\n",
              "    </tr>\n",
              "    <tr>\n",
              "      <th>10</th>\n",
              "      <td>11</td>\n",
              "      <td>web</td>\n",
              "    </tr>\n",
              "    <tr>\n",
              "      <th>11</th>\n",
              "      <td>12</td>\n",
              "      <td>como</td>\n",
              "    </tr>\n",
              "    <tr>\n",
              "      <th>12</th>\n",
              "      <td>13</td>\n",
              "      <td>programacion</td>\n",
              "    </tr>\n",
              "    <tr>\n",
              "      <th>13</th>\n",
              "      <td>14</td>\n",
              "      <td>aprenderas</td>\n",
              "    </tr>\n",
              "    <tr>\n",
              "      <th>14</th>\n",
              "      <td>15</td>\n",
              "      <td>rating</td>\n",
              "    </tr>\n",
              "    <tr>\n",
              "      <th>15</th>\n",
              "      <td>16</td>\n",
              "      <td>paso</td>\n",
              "    </tr>\n",
              "    <tr>\n",
              "      <th>16</th>\n",
              "      <td>17</td>\n",
              "      <td>profesional</td>\n",
              "    </tr>\n",
              "    <tr>\n",
              "      <th>17</th>\n",
              "      <td>18</td>\n",
              "      <td>desarrollo</td>\n",
              "    </tr>\n",
              "    <tr>\n",
              "      <th>18</th>\n",
              "      <td>19</td>\n",
              "      <td>herramienta</td>\n",
              "    </tr>\n",
              "    <tr>\n",
              "      <th>19</th>\n",
              "      <td>20</td>\n",
              "      <td>tecnicas</td>\n",
              "    </tr>\n",
              "    <tr>\n",
              "      <th>20</th>\n",
              "      <td>21</td>\n",
              "      <td>num_published_practice_tests</td>\n",
              "    </tr>\n",
              "    <tr>\n",
              "      <th>21</th>\n",
              "      <td>22</td>\n",
              "      <td>forma</td>\n",
              "    </tr>\n",
              "    <tr>\n",
              "      <th>22</th>\n",
              "      <td>23</td>\n",
              "      <td>base</td>\n",
              "    </tr>\n",
              "    <tr>\n",
              "      <th>23</th>\n",
              "      <td>24</td>\n",
              "      <td>cantidad_instructores</td>\n",
              "    </tr>\n",
              "    <tr>\n",
              "      <th>24</th>\n",
              "      <td>25</td>\n",
              "      <td>horas_cursada_media</td>\n",
              "    </tr>\n",
              "    <tr>\n",
              "      <th>25</th>\n",
              "      <td>26</td>\n",
              "      <td>completo</td>\n",
              "    </tr>\n",
              "    <tr>\n",
              "      <th>26</th>\n",
              "      <td>27</td>\n",
              "      <td>locale_prop</td>\n",
              "    </tr>\n",
              "    <tr>\n",
              "      <th>27</th>\n",
              "      <td>28</td>\n",
              "      <td>published_date_num</td>\n",
              "    </tr>\n",
              "    <tr>\n",
              "      <th>28</th>\n",
              "      <td>29</td>\n",
              "      <td>nb_si</td>\n",
              "    </tr>\n",
              "    <tr>\n",
              "      <th>29</th>\n",
              "      <td>30</td>\n",
              "      <td>instructional_level_simple_prop</td>\n",
              "    </tr>\n",
              "    <tr>\n",
              "      <th>30</th>\n",
              "      <td>31</td>\n",
              "      <td>category_prop</td>\n",
              "    </tr>\n",
              "    <tr>\n",
              "      <th>31</th>\n",
              "      <td>32</td>\n",
              "      <td>subcategory_prop</td>\n",
              "    </tr>\n",
              "    <tr>\n",
              "      <th>32</th>\n",
              "      <td>33</td>\n",
              "      <td>instructors_prop</td>\n",
              "    </tr>\n",
              "    <tr>\n",
              "      <th>33</th>\n",
              "      <td>34</td>\n",
              "      <td>precio_como_numero</td>\n",
              "    </tr>\n",
              "  </tbody>\n",
              "</table>\n",
              "</div>\n",
              "      <button class=\"colab-df-convert\" onclick=\"convertToInteractive('df-d0246ffb-09af-4e21-94e6-a5f7bfddd068')\"\n",
              "              title=\"Convert this dataframe to an interactive table.\"\n",
              "              style=\"display:none;\">\n",
              "        \n",
              "  <svg xmlns=\"http://www.w3.org/2000/svg\" height=\"24px\"viewBox=\"0 0 24 24\"\n",
              "       width=\"24px\">\n",
              "    <path d=\"M0 0h24v24H0V0z\" fill=\"none\"/>\n",
              "    <path d=\"M18.56 5.44l.94 2.06.94-2.06 2.06-.94-2.06-.94-.94-2.06-.94 2.06-2.06.94zm-11 1L8.5 8.5l.94-2.06 2.06-.94-2.06-.94L8.5 2.5l-.94 2.06-2.06.94zm10 10l.94 2.06.94-2.06 2.06-.94-2.06-.94-.94-2.06-.94 2.06-2.06.94z\"/><path d=\"M17.41 7.96l-1.37-1.37c-.4-.4-.92-.59-1.43-.59-.52 0-1.04.2-1.43.59L10.3 9.45l-7.72 7.72c-.78.78-.78 2.05 0 2.83L4 21.41c.39.39.9.59 1.41.59.51 0 1.02-.2 1.41-.59l7.78-7.78 2.81-2.81c.8-.78.8-2.07 0-2.86zM5.41 20L4 18.59l7.72-7.72 1.47 1.35L5.41 20z\"/>\n",
              "  </svg>\n",
              "      </button>\n",
              "      \n",
              "  <style>\n",
              "    .colab-df-container {\n",
              "      display:flex;\n",
              "      flex-wrap:wrap;\n",
              "      gap: 12px;\n",
              "    }\n",
              "\n",
              "    .colab-df-convert {\n",
              "      background-color: #E8F0FE;\n",
              "      border: none;\n",
              "      border-radius: 50%;\n",
              "      cursor: pointer;\n",
              "      display: none;\n",
              "      fill: #1967D2;\n",
              "      height: 32px;\n",
              "      padding: 0 0 0 0;\n",
              "      width: 32px;\n",
              "    }\n",
              "\n",
              "    .colab-df-convert:hover {\n",
              "      background-color: #E2EBFA;\n",
              "      box-shadow: 0px 1px 2px rgba(60, 64, 67, 0.3), 0px 1px 3px 1px rgba(60, 64, 67, 0.15);\n",
              "      fill: #174EA6;\n",
              "    }\n",
              "\n",
              "    [theme=dark] .colab-df-convert {\n",
              "      background-color: #3B4455;\n",
              "      fill: #D2E3FC;\n",
              "    }\n",
              "\n",
              "    [theme=dark] .colab-df-convert:hover {\n",
              "      background-color: #434B5C;\n",
              "      box-shadow: 0px 1px 3px 1px rgba(0, 0, 0, 0.15);\n",
              "      filter: drop-shadow(0px 1px 2px rgba(0, 0, 0, 0.3));\n",
              "      fill: #FFFFFF;\n",
              "    }\n",
              "  </style>\n",
              "\n",
              "      <script>\n",
              "        const buttonEl =\n",
              "          document.querySelector('#df-d0246ffb-09af-4e21-94e6-a5f7bfddd068 button.colab-df-convert');\n",
              "        buttonEl.style.display =\n",
              "          google.colab.kernel.accessAllowed ? 'block' : 'none';\n",
              "\n",
              "        async function convertToInteractive(key) {\n",
              "          const element = document.querySelector('#df-d0246ffb-09af-4e21-94e6-a5f7bfddd068');\n",
              "          const dataTable =\n",
              "            await google.colab.kernel.invokeFunction('convertToInteractive',\n",
              "                                                     [key], {});\n",
              "          if (!dataTable) return;\n",
              "\n",
              "          const docLinkHtml = 'Like what you see? Visit the ' +\n",
              "            '<a target=\"_blank\" href=https://colab.research.google.com/notebooks/data_table.ipynb>data table notebook</a>'\n",
              "            + ' to learn more about interactive tables.';\n",
              "          element.innerHTML = '';\n",
              "          dataTable['output_type'] = 'display_data';\n",
              "          await google.colab.output.renderOutput(dataTable, element);\n",
              "          const docLink = document.createElement('div');\n",
              "          docLink.innerHTML = docLinkHtml;\n",
              "          element.appendChild(docLink);\n",
              "        }\n",
              "      </script>\n",
              "    </div>\n",
              "  </div>\n",
              "  "
            ]
          },
          "metadata": {},
          "execution_count": 254
        }
      ]
    },
    {
      "cell_type": "code",
      "execution_count": 255,
      "metadata": {
        "id": "Cs5VEfLbA3VP"
      },
      "outputs": [],
      "source": [
        "USAR_PCA = False\n",
        "\n",
        "if USAR_PCA:\n",
        "  # PCA\n",
        "  X_prueba = dfp[ColsPCA]\n",
        "\n",
        "  # Arma los dfs definitivos de entrenamiento para fitear\n",
        "  X = dfe[ColsPCA]\n",
        "  y = dfe['bestseller']\n",
        "else:\n",
        "  X_prueba = dfp[dfp.columns.drop('bestseller')]\n",
        "\n",
        "  # Arma los dfs definitivos de entrenamiento para fitear\n",
        "  X = dfe[dfe.columns.drop('bestseller')]\n",
        "  y = dfe['bestseller']"
      ]
    },
    {
      "cell_type": "code",
      "execution_count": 256,
      "metadata": {
        "id": "41LmKvvkpzbL"
      },
      "outputs": [],
      "source": [
        "from sklearn.ensemble import RandomForestClassifier\n",
        "from sklearn.datasets import make_classification\n",
        "from sklearn.model_selection import RandomizedSearchCV, StratifiedKFold, KFold\n",
        "from sklearn.metrics import make_scorer, accuracy_score\n",
        "\n",
        "if False:\n",
        "  # el mejor dio:\n",
        "  # RandomForestClassifier(max_depth=20, n_estimators=160, random_state=42)\n",
        "  params_grid = {\n",
        "    'n_estimators': list(range(200,300,10)),\n",
        "    'max_depth': list(range(2,10,1)),\n",
        "  }\n",
        "\n",
        "  #RandomForestClassifier(criterion='entropy', max_depth=21, max_features='sqrt',\n",
        "  #                     min_samples_leaf=7, min_samples_split=7, n_estimators=55,\n",
        "  #                     random_state=42)\n",
        "  #0.8014676450967311\n",
        "  #params_grid = {\n",
        "  #  'criterion': ['gini', 'entropy'],\n",
        "  #  'n_estimators': list(range(50,200,5)),\n",
        "  #  'max_depth': list(range(2,25,1)),\n",
        "  #  'max_features': ['sqrt', 'log2', None],\n",
        "  #  'min_samples_split': list(range(2,11)),\n",
        "  #  'min_samples_leaf': list(range(1,11)),\n",
        "  #}\n",
        "  \n",
        "\n",
        "  kfoldcv = StratifiedKFold(n_splits=5, random_state=42, shuffle=True)\n",
        "  base_tree = RandomForestClassifier(random_state=42)\n",
        "  scorer_acc = make_scorer(accuracy_score)\n",
        "  randomcv = RandomizedSearchCV(estimator=base_tree, param_distributions=params_grid, scoring=scorer_acc, cv=kfoldcv, n_iter=50, verbose=2)\n",
        "  randomcv.fit(X, y)\n",
        "  model = randomcv\n",
        "  print(randomcv.best_estimator_)\n",
        "  print(randomcv.best_score_)\n",
        "else:\n",
        "  model = RandomForestClassifier(max_depth=9, n_estimators=240, random_state=42)\n",
        "  model.fit(X,y)"
      ]
    },
    {
      "cell_type": "code",
      "execution_count": 257,
      "metadata": {
        "colab": {
          "base_uri": "https://localhost:8080/"
        },
        "id": "j5Acj7bdbA6w",
        "outputId": "b2bc3907-76a1-4dcc-a5d5-ae60a57292f1"
      },
      "outputs": [
        {
          "output_type": "execute_result",
          "data": {
            "text/plain": [
              "rating                             False\n",
              "num_published_lectures             False\n",
              "num_published_practice_tests       False\n",
              "locale_prop                        False\n",
              "instructional_level_simple_prop    False\n",
              "instructors_prop                   False\n",
              "category_prop                      False\n",
              "subcategory_prop                   False\n",
              "aprender                           False\n",
              "aprenderas                         False\n",
              "base                               False\n",
              "como                               False\n",
              "completo                           False\n",
              "curso                              False\n",
              "datos                              False\n",
              "desarrollo                         False\n",
              "forma                              False\n",
              "herramienta                        False\n",
              "paso                               False\n",
              "profesional                        False\n",
              "programacion                       False\n",
              "tecnicas                           False\n",
              "web                                False\n",
              "200_palabras_clave                 False\n",
              "published_date_num                 False\n",
              "nb_si                              False\n",
              "precio_como_numero                 False\n",
              "precio_neto                        False\n",
              "descuento_aplicado                 False\n",
              "cantidad_instructores              False\n",
              "cantidad_cursos_dictados           False\n",
              "examen                             False\n",
              "horas_cursada_media                False\n",
              "costo_por_hora                     False\n",
              "dtype: bool"
            ]
          },
          "metadata": {},
          "execution_count": 257
        }
      ],
      "source": [
        "X_prueba.isna().any()"
      ]
    },
    {
      "cell_type": "code",
      "execution_count": 258,
      "metadata": {
        "id": "zIZ7En3-hXyr"
      },
      "outputs": [],
      "source": [
        "# Predecimos\n",
        "dfp['bestseller'] = model.predict(X_prueba)\n"
      ]
    },
    {
      "cell_type": "code",
      "execution_count": 259,
      "metadata": {
        "colab": {
          "base_uri": "https://localhost:8080/"
        },
        "id": "39bxQx7EcFpX",
        "outputId": "917a4482-4236-45e0-f9da-572e84447d20"
      },
      "outputs": [
        {
          "output_type": "stream",
          "name": "stdout",
          "text": [
            "no    0.857741\n",
            "si    0.142259\n",
            "Name: bestseller, dtype: float64\n",
            "no    205\n",
            "si     34\n",
            "Name: bestseller, dtype: int64\n"
          ]
        }
      ],
      "source": [
        "# chequeamos presencia de \"si\" en el \n",
        "print(dfp['bestseller'].value_counts(normalize = True))\n",
        "print(dfp['bestseller'].value_counts())"
      ]
    },
    {
      "cell_type": "code",
      "source": [
        "# Grabamos\n",
        "dfp['bestseller'].to_csv('/content/solucion.csv')\n"
      ],
      "metadata": {
        "id": "71663-pQCZFH"
      },
      "execution_count": 260,
      "outputs": []
    },
    {
      "cell_type": "code",
      "source": [
        "# Feature importance\n",
        "for f, fs in sorted(zip(model.feature_importances_, model.feature_names_in_), reverse=True):\n",
        "  print(f, fs)\n"
      ],
      "metadata": {
        "colab": {
          "base_uri": "https://localhost:8080/"
        },
        "id": "Ic49GMox9a_6",
        "outputId": "bca09fec-dcda-41d1-ff60-9b224102c283"
      },
      "execution_count": 261,
      "outputs": [
        {
          "output_type": "stream",
          "name": "stdout",
          "text": [
            "0.5835224597223069 nb_si\n",
            "0.05692140921731827 num_published_lectures\n",
            "0.04063481163192023 costo_por_hora\n",
            "0.037253810123564775 horas_cursada_media\n",
            "0.033298549500476976 cantidad_cursos_dictados\n",
            "0.032141169009903485 rating\n",
            "0.03210350750066525 published_date_num\n",
            "0.024568342324837206 category_prop\n",
            "0.018903130104765648 instructors_prop\n",
            "0.017622095634236862 descuento_aplicado\n",
            "0.015971268546937548 subcategory_prop\n",
            "0.014731699069630028 precio_como_numero\n",
            "0.014338626246697236 200_palabras_clave\n",
            "0.013927947449184377 cantidad_instructores\n",
            "0.006018568259273142 instructional_level_simple_prop\n",
            "0.005666136201928441 web\n",
            "0.0048188935601725215 locale_prop\n",
            "0.004775987887126642 programacion\n",
            "0.004070469745308403 curso\n",
            "0.003969926505233517 aprender\n",
            "0.003918094412189806 precio_neto\n",
            "0.0037447473862396536 datos\n",
            "0.003342907016543138 completo\n",
            "0.0031962309580706306 base\n",
            "0.002857209267543167 profesional\n",
            "0.002797507216489226 aprenderas\n",
            "0.002739933505963557 desarrollo\n",
            "0.002731117049459713 como\n",
            "0.0020402043909181554 num_published_practice_tests\n",
            "0.0016296816803635893 tecnicas\n",
            "0.0015859680654338691 forma\n",
            "0.0015591116898353266 herramienta\n",
            "0.0013961614270194076 paso\n",
            "0.0012023176924434234 examen\n"
          ]
        }
      ]
    }
  ],
  "metadata": {
    "colab": {
      "collapsed_sections": [
        "HUnEgrJ33NkG",
        "03Vb0BHyc9Or",
        "m2Okp5rAdMUb",
        "zRCd4nLyAzv-"
      ],
      "name": "Grupo_9_Modelo_udemy.ipynb",
      "provenance": [],
      "toc_visible": true
    },
    "kernelspec": {
      "display_name": "Python 3",
      "name": "python3"
    },
    "language_info": {
      "name": "python"
    }
  },
  "nbformat": 4,
  "nbformat_minor": 0
}